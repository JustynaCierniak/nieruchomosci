{
 "cells": [
  {
   "cell_type": "markdown",
   "metadata": {},
   "source": [
    "## Justyna Cierniak, gr. II, Katowice\n",
    "\n",
    "\n",
    "## Projekt zaliczeniowy\n",
    "Bootcamp Data Science ING"
   ]
  },
  {
   "cell_type": "markdown",
   "metadata": {},
   "source": [
    "## Temat 1: Przywidywanie cen mieszkań na podstawie danych z serwisu Otodom\n",
    "Celem projektu jest zastosowanie modeli regresji do przewidzenia ceny mieszkania o podanych cechach.\n",
    "## cz. II"
   ]
  },
  {
   "cell_type": "markdown",
   "metadata": {},
   "source": [
    "##  "
   ]
  },
  {
   "cell_type": "markdown",
   "metadata": {},
   "source": [
    "## Modelowanie"
   ]
  },
  {
   "cell_type": "markdown",
   "metadata": {},
   "source": [
    "Wczytuję bazę, przygotowaną w pliku \"1_pobieranie i czyszczenie danych\" jako \"JC_df_clean\"."
   ]
  },
  {
   "cell_type": "code",
   "execution_count": 1,
   "metadata": {},
   "outputs": [],
   "source": [
    "import pandas as pd"
   ]
  },
  {
   "cell_type": "code",
   "execution_count": 2,
   "metadata": {},
   "outputs": [],
   "source": [
    "df_mod=pd.read_csv('JC_df_clean')"
   ]
  },
  {
   "cell_type": "code",
   "execution_count": 3,
   "metadata": {},
   "outputs": [
    {
     "data": {
      "text/html": [
       "<div>\n",
       "<style scoped>\n",
       "    .dataframe tbody tr th:only-of-type {\n",
       "        vertical-align: middle;\n",
       "    }\n",
       "\n",
       "    .dataframe tbody tr th {\n",
       "        vertical-align: top;\n",
       "    }\n",
       "\n",
       "    .dataframe thead th {\n",
       "        text-align: right;\n",
       "    }\n",
       "</style>\n",
       "<table border=\"1\" class=\"dataframe\">\n",
       "  <thead>\n",
       "    <tr style=\"text-align: right;\">\n",
       "      <th></th>\n",
       "      <th>Unnamed: 0</th>\n",
       "      <th>cena</th>\n",
       "      <th>liczba_pieter</th>\n",
       "      <th>liczba_pokoi</th>\n",
       "      <th>pietro</th>\n",
       "      <th>powierzchnia</th>\n",
       "      <th>rok_budowy</th>\n",
       "      <th>rynek_pierwotny</th>\n",
       "      <th>rodzaj_zabudowy_apartamentowiec</th>\n",
       "      <th>rodzaj_zabudowy_blok</th>\n",
       "      <th>rodzaj_zabudowy_dom</th>\n",
       "      <th>rodzaj_zabudowy_kamienica</th>\n",
       "      <th>stan_wykonczenia_do_remontu</th>\n",
       "      <th>stan_wykonczenia_do_wykonczenia</th>\n",
       "      <th>stan_wykonczenia_do_zamieszkania</th>\n",
       "    </tr>\n",
       "  </thead>\n",
       "  <tbody>\n",
       "    <tr>\n",
       "      <th>0</th>\n",
       "      <td>0</td>\n",
       "      <td>299000.0</td>\n",
       "      <td>8.0</td>\n",
       "      <td>2.0</td>\n",
       "      <td>2.0</td>\n",
       "      <td>40.00</td>\n",
       "      <td>2019.0</td>\n",
       "      <td>1.0</td>\n",
       "      <td>1.0</td>\n",
       "      <td>0.0</td>\n",
       "      <td>0.0</td>\n",
       "      <td>0.0</td>\n",
       "      <td>0.0</td>\n",
       "      <td>0.0</td>\n",
       "      <td>1.0</td>\n",
       "    </tr>\n",
       "    <tr>\n",
       "      <th>1</th>\n",
       "      <td>1</td>\n",
       "      <td>275709.0</td>\n",
       "      <td>10.0</td>\n",
       "      <td>3.0</td>\n",
       "      <td>1.0</td>\n",
       "      <td>48.37</td>\n",
       "      <td>2000.0</td>\n",
       "      <td>1.0</td>\n",
       "      <td>1.0</td>\n",
       "      <td>0.0</td>\n",
       "      <td>0.0</td>\n",
       "      <td>0.0</td>\n",
       "      <td>0.0</td>\n",
       "      <td>1.0</td>\n",
       "      <td>0.0</td>\n",
       "    </tr>\n",
       "    <tr>\n",
       "      <th>2</th>\n",
       "      <td>2</td>\n",
       "      <td>518891.0</td>\n",
       "      <td>10.0</td>\n",
       "      <td>4.0</td>\n",
       "      <td>2.0</td>\n",
       "      <td>79.22</td>\n",
       "      <td>2000.0</td>\n",
       "      <td>1.0</td>\n",
       "      <td>0.0</td>\n",
       "      <td>1.0</td>\n",
       "      <td>0.0</td>\n",
       "      <td>0.0</td>\n",
       "      <td>0.0</td>\n",
       "      <td>0.0</td>\n",
       "      <td>0.0</td>\n",
       "    </tr>\n",
       "    <tr>\n",
       "      <th>3</th>\n",
       "      <td>3</td>\n",
       "      <td>255000.0</td>\n",
       "      <td>4.0</td>\n",
       "      <td>3.0</td>\n",
       "      <td>10.0</td>\n",
       "      <td>50.00</td>\n",
       "      <td>2019.0</td>\n",
       "      <td>1.0</td>\n",
       "      <td>1.0</td>\n",
       "      <td>0.0</td>\n",
       "      <td>0.0</td>\n",
       "      <td>0.0</td>\n",
       "      <td>0.0</td>\n",
       "      <td>1.0</td>\n",
       "      <td>0.0</td>\n",
       "    </tr>\n",
       "    <tr>\n",
       "      <th>4</th>\n",
       "      <td>4</td>\n",
       "      <td>290457.0</td>\n",
       "      <td>10.0</td>\n",
       "      <td>3.0</td>\n",
       "      <td>1.0</td>\n",
       "      <td>49.23</td>\n",
       "      <td>2000.0</td>\n",
       "      <td>1.0</td>\n",
       "      <td>1.0</td>\n",
       "      <td>0.0</td>\n",
       "      <td>0.0</td>\n",
       "      <td>0.0</td>\n",
       "      <td>0.0</td>\n",
       "      <td>1.0</td>\n",
       "      <td>0.0</td>\n",
       "    </tr>\n",
       "  </tbody>\n",
       "</table>\n",
       "</div>"
      ],
      "text/plain": [
       "   Unnamed: 0      cena  liczba_pieter  liczba_pokoi  pietro  powierzchnia  \\\n",
       "0           0  299000.0            8.0           2.0     2.0         40.00   \n",
       "1           1  275709.0           10.0           3.0     1.0         48.37   \n",
       "2           2  518891.0           10.0           4.0     2.0         79.22   \n",
       "3           3  255000.0            4.0           3.0    10.0         50.00   \n",
       "4           4  290457.0           10.0           3.0     1.0         49.23   \n",
       "\n",
       "   rok_budowy  rynek_pierwotny  rodzaj_zabudowy_apartamentowiec  \\\n",
       "0      2019.0              1.0                              1.0   \n",
       "1      2000.0              1.0                              1.0   \n",
       "2      2000.0              1.0                              0.0   \n",
       "3      2019.0              1.0                              1.0   \n",
       "4      2000.0              1.0                              1.0   \n",
       "\n",
       "   rodzaj_zabudowy_blok  rodzaj_zabudowy_dom  rodzaj_zabudowy_kamienica  \\\n",
       "0                   0.0                  0.0                        0.0   \n",
       "1                   0.0                  0.0                        0.0   \n",
       "2                   1.0                  0.0                        0.0   \n",
       "3                   0.0                  0.0                        0.0   \n",
       "4                   0.0                  0.0                        0.0   \n",
       "\n",
       "   stan_wykonczenia_do_remontu  stan_wykonczenia_do_wykonczenia  \\\n",
       "0                          0.0                              0.0   \n",
       "1                          0.0                              1.0   \n",
       "2                          0.0                              0.0   \n",
       "3                          0.0                              1.0   \n",
       "4                          0.0                              1.0   \n",
       "\n",
       "   stan_wykonczenia_do_zamieszkania  \n",
       "0                               1.0  \n",
       "1                               0.0  \n",
       "2                               0.0  \n",
       "3                               0.0  \n",
       "4                               0.0  "
      ]
     },
     "execution_count": 3,
     "metadata": {},
     "output_type": "execute_result"
    }
   ],
   "source": [
    "df_mod.head()"
   ]
  },
  {
   "cell_type": "code",
   "execution_count": 4,
   "metadata": {},
   "outputs": [
    {
     "name": "stdout",
     "output_type": "stream",
     "text": [
      "<class 'pandas.core.frame.DataFrame'>\n",
      "RangeIndex: 2166 entries, 0 to 2165\n",
      "Data columns (total 15 columns):\n",
      "Unnamed: 0                          2166 non-null int64\n",
      "cena                                2166 non-null float64\n",
      "liczba_pieter                       2166 non-null float64\n",
      "liczba_pokoi                        2166 non-null float64\n",
      "pietro                              2166 non-null float64\n",
      "powierzchnia                        2166 non-null float64\n",
      "rok_budowy                          2166 non-null float64\n",
      "rynek_pierwotny                     2166 non-null float64\n",
      "rodzaj_zabudowy_apartamentowiec     2166 non-null float64\n",
      "rodzaj_zabudowy_blok                2166 non-null float64\n",
      "rodzaj_zabudowy_dom                 2166 non-null float64\n",
      "rodzaj_zabudowy_kamienica           2166 non-null float64\n",
      "stan_wykonczenia_do_remontu         2166 non-null float64\n",
      "stan_wykonczenia_do_wykonczenia     2166 non-null float64\n",
      "stan_wykonczenia_do_zamieszkania    2166 non-null float64\n",
      "dtypes: float64(14), int64(1)\n",
      "memory usage: 253.9 KB\n"
     ]
    }
   ],
   "source": [
    "df_mod.info()"
   ]
  },
  {
   "cell_type": "markdown",
   "metadata": {},
   "source": [
    "Usuwam kolumnę \"Unnamed\" - gdyż jest to index"
   ]
  },
  {
   "cell_type": "code",
   "execution_count": 5,
   "metadata": {},
   "outputs": [],
   "source": [
    "df_mod=df_mod.drop('Unnamed: 0',axis=1)"
   ]
  },
  {
   "cell_type": "markdown",
   "metadata": {},
   "source": [
    "  "
   ]
  },
  {
   "cell_type": "markdown",
   "metadata": {},
   "source": [
    "Analizuję korelację pomiędz ceną a poszczególnymi zmiennymi"
   ]
  },
  {
   "cell_type": "code",
   "execution_count": 6,
   "metadata": {},
   "outputs": [
    {
     "data": {
      "text/plain": [
       "cena                                1.000000\n",
       "powierzchnia                        0.789965\n",
       "liczba_pokoi                        0.654301\n",
       "rodzaj_zabudowy_kamienica           0.122751\n",
       "rodzaj_zabudowy_apartamentowiec     0.114070\n",
       "stan_wykonczenia_do_zamieszkania    0.072659\n",
       "stan_wykonczenia_do_remontu         0.058297\n",
       "rodzaj_zabudowy_dom                 0.051377\n",
       "pietro                             -0.005184\n",
       "stan_wykonczenia_do_wykonczenia    -0.050419\n",
       "rynek_pierwotny                    -0.079323\n",
       "rok_budowy                         -0.103807\n",
       "liczba_pieter                      -0.129923\n",
       "rodzaj_zabudowy_blok               -0.196123\n",
       "Name: cena, dtype: float64"
      ]
     },
     "execution_count": 6,
     "metadata": {},
     "output_type": "execute_result"
    }
   ],
   "source": [
    "correl = df_mod.corr()\n",
    "correl.sort_values(['cena'], ascending=False, inplace=True)\n",
    "correl.cena"
   ]
  },
  {
   "cell_type": "code",
   "execution_count": 7,
   "metadata": {},
   "outputs": [],
   "source": [
    "import matplotlib.pyplot as plt \n",
    "import seaborn as sns"
   ]
  },
  {
   "cell_type": "code",
   "execution_count": 8,
   "metadata": {},
   "outputs": [
    {
     "data": {
      "text/plain": [
       "<matplotlib.axes._subplots.AxesSubplot at 0x7f23cbcd88d0>"
      ]
     },
     "execution_count": 8,
     "metadata": {},
     "output_type": "execute_result"
    },
    {
     "data": {
      "image/png": "[encoded data removed]",
      "text/plain": [
       "<Figure size 1440x648 with 2 Axes>"
      ]
     },
     "metadata": {
      "needs_background": "light"
     },
     "output_type": "display_data"
    }
   ],
   "source": [
    "correl = df_mod.corr()\n",
    "plt.subplots(figsize=(20,9))\n",
    "sns.heatmap(correl, annot=True)"
   ]
  },
  {
   "cell_type": "markdown",
   "metadata": {},
   "source": [
    "Z powyższego wynika, że:\n",
    "\n",
    "- z ceną najbardziej skorekowane są \"powierzchnia\" i \"liczba_pokoi\", co jest zgodne z intuicją. \n",
    "\n",
    "\n",
    "- najmniej skorelowane z ceną jest \"pietro\" --> usuwam tą kolumnę. Jeśli bym ją pozostawiła- wyniki większości modeli na zbiorze testowym są gorsze."
   ]
  },
  {
   "cell_type": "code",
   "execution_count": 9,
   "metadata": {},
   "outputs": [],
   "source": [
    "df_mod=df_mod.drop('pietro',axis=1)"
   ]
  },
  {
   "cell_type": "markdown",
   "metadata": {},
   "source": [
    "  "
   ]
  },
  {
   "cell_type": "markdown",
   "metadata": {},
   "source": [
    "Oddzielam kolumnę \"cena\" jako wartość którą będę przewidywać i usuwam ją z X-ów (obserwacji)"
   ]
  },
  {
   "cell_type": "code",
   "execution_count": 10,
   "metadata": {},
   "outputs": [],
   "source": [
    "y_df = df_mod.cena\n",
    "X_df = df_mod.drop(['cena'], axis=1)"
   ]
  },
  {
   "cell_type": "code",
   "execution_count": 11,
   "metadata": {
    "scrolled": false
   },
   "outputs": [
    {
     "name": "stdout",
     "output_type": "stream",
     "text": [
      "<class 'pandas.core.frame.DataFrame'>\n",
      "RangeIndex: 2166 entries, 0 to 2165\n",
      "Data columns (total 12 columns):\n",
      "liczba_pieter                       2166 non-null float64\n",
      "liczba_pokoi                        2166 non-null float64\n",
      "powierzchnia                        2166 non-null float64\n",
      "rok_budowy                          2166 non-null float64\n",
      "rynek_pierwotny                     2166 non-null float64\n",
      "rodzaj_zabudowy_apartamentowiec     2166 non-null float64\n",
      "rodzaj_zabudowy_blok                2166 non-null float64\n",
      "rodzaj_zabudowy_dom                 2166 non-null float64\n",
      "rodzaj_zabudowy_kamienica           2166 non-null float64\n",
      "stan_wykonczenia_do_remontu         2166 non-null float64\n",
      "stan_wykonczenia_do_wykonczenia     2166 non-null float64\n",
      "stan_wykonczenia_do_zamieszkania    2166 non-null float64\n",
      "dtypes: float64(12)\n",
      "memory usage: 203.1 KB\n"
     ]
    }
   ],
   "source": [
    "X_df.info()"
   ]
  },
  {
   "cell_type": "markdown",
   "metadata": {},
   "source": [
    "  "
   ]
  },
  {
   "cell_type": "code",
   "execution_count": 12,
   "metadata": {},
   "outputs": [],
   "source": [
    "import sklearn\n",
    "from sklearn.model_selection import train_test_split\n",
    "from sklearn import linear_model\n",
    "from sklearn import model_selection\n",
    "from sklearn.decomposition import PCA\n",
    "from sklearn.linear_model import LinearRegression\n",
    "from sklearn.preprocessing import StandardScaler\n",
    "from sklearn.preprocessing import MaxAbsScaler\n",
    "from sklearn.preprocessing import PolynomialFeatures\n",
    "from sklearn.pipeline import Pipeline\n",
    "from sklearn.pipeline import make_pipeline\n",
    "from sklearn.model_selection import GridSearchCV, KFold \n",
    "from sklearn.linear_model import Lasso,LassoCV\n",
    "from sklearn.metrics import r2_score, mean_squared_error, mean_absolute_error\n",
    "import xgboost as xgb\n",
    "from sklearn.svm import SVR, SVC\n",
    "from sklearn.ensemble import RandomForestRegressor\n",
    "from sklearn import  metrics"
   ]
  },
  {
   "cell_type": "markdown",
   "metadata": {},
   "source": [
    "   "
   ]
  },
  {
   "cell_type": "markdown",
   "metadata": {},
   "source": [
    "Dzielę dane na zbiót treningowy i testowy"
   ]
  },
  {
   "cell_type": "code",
   "execution_count": 13,
   "metadata": {},
   "outputs": [],
   "source": [
    "X_train, X_test, y_train, y_test = train_test_split(X_df, y_df, test_size = 0.3, random_state=42)"
   ]
  },
  {
   "cell_type": "markdown",
   "metadata": {},
   "source": [
    "  "
   ]
  },
  {
   "cell_type": "markdown",
   "metadata": {},
   "source": [
    "Skaluję dane"
   ]
  },
  {
   "cell_type": "code",
   "execution_count": 14,
   "metadata": {},
   "outputs": [],
   "source": [
    "scaler = StandardScaler()\n",
    "\n",
    "scaler.fit(X_train)\n",
    "X_train = scaler.transform(X_train)\n",
    "X_test = scaler.transform(X_test)"
   ]
  },
  {
   "cell_type": "markdown",
   "metadata": {},
   "source": [
    "  "
   ]
  },
  {
   "cell_type": "markdown",
   "metadata": {},
   "source": [
    "Redukuję liczę wymiarów."
   ]
  },
  {
   "cell_type": "code",
   "execution_count": 15,
   "metadata": {},
   "outputs": [],
   "source": [
    "pca = PCA(n_components = 10)\n",
    "\n",
    "pca.fit(X_train)\n",
    "X_train = pca.transform(X_train)\n",
    "X_test = pca.transform(X_test)"
   ]
  },
  {
   "cell_type": "markdown",
   "metadata": {},
   "source": [
    "  "
   ]
  },
  {
   "cell_type": "markdown",
   "metadata": {},
   "source": [
    "Po kolei testuję 5 modeli."
   ]
  },
  {
   "cell_type": "markdown",
   "metadata": {},
   "source": [
    "  "
   ]
  },
  {
   "cell_type": "markdown",
   "metadata": {},
   "source": [
    "## Regresja liniowa (1)"
   ]
  },
  {
   "cell_type": "code",
   "execution_count": 16,
   "metadata": {},
   "outputs": [
    {
     "name": "stdout",
     "output_type": "stream",
     "text": [
      "{'polynomialfeatures__degree': 1}\n",
      "Best score: 0.669\n",
      "Pipeline(memory=None,\n",
      "     steps=[('polynomialfeatures', PolynomialFeatures(degree=1, include_bias=True, interaction_only=False)), ('linearregression', LinearRegression(copy_X=True, fit_intercept=True, n_jobs=None,\n",
      "         normalize=False))])\n"
     ]
    },
    {
     "name": "stderr",
     "output_type": "stream",
     "text": [
      "/home/kodolamacz/anaconda3/lib/python3.7/site-packages/sklearn/model_selection/_search.py:841: DeprecationWarning: The default of the `iid` parameter will change from True to False in version 0.22 and will be removed in 0.24. This will change numeric results when test-set sizes are unequal.\n",
      "  DeprecationWarning)\n"
     ]
    }
   ],
   "source": [
    "pipe = make_pipeline(PolynomialFeatures(degree=2), LinearRegression())\n",
    "kfold = model_selection.KFold(n_splits=10, random_state=42)\n",
    "grid_1 = GridSearchCV(pipe,\n",
    "              param_grid={'polynomialfeatures__degree': [1, 2, 3]},\n",
    "              cv=kfold,\n",
    "              refit=True)\n",
    "grid_1.fit(X_train, y_train)\n",
    "\n",
    "print(grid_1.best_params_)\n",
    "print(\"Best score: %0.3f\" % grid_1.best_score_)\n",
    "print(grid_1.best_estimator_)\n"
   ]
  },
  {
   "cell_type": "code",
   "execution_count": 17,
   "metadata": {},
   "outputs": [
    {
     "name": "stdout",
     "output_type": "stream",
     "text": [
      "R^2 train: 0.6757371593751103\n",
      "MSE train: 8234959210.262142\n",
      "MAE train: 64461.11706134985\n",
      "\n",
      "R^2 test: 0.6655569157399537\n",
      "MSE test: 9306341932.918753\n",
      "MAE test: 64634.30471657047\n"
     ]
    }
   ],
   "source": [
    "print(f\"R^2 train: {r2_score(y_true=y_train, y_pred=grid_1.predict(X_train))}\")\n",
    "print(f\"MSE train: {mean_squared_error(y_true=y_train, y_pred=grid_1.predict(X_train))}\")\n",
    "print(f\"MAE train: {mean_absolute_error(y_true=y_train, y_pred=grid_1.predict(X_train))}\")\n",
    "print('')\n",
    "print(f\"R^2 test: {r2_score(y_true=y_test, y_pred=grid_1.predict(X_test))}\")\n",
    "print(f\"MSE test: {mean_squared_error(y_true=y_test, y_pred=grid_1.predict(X_test))}\")\n",
    "print(f\"MAE test: {mean_absolute_error(y_true=y_test, y_pred=grid_1.predict(X_test))}\")"
   ]
  },
  {
   "cell_type": "markdown",
   "metadata": {},
   "source": [
    "  "
   ]
  },
  {
   "cell_type": "markdown",
   "metadata": {},
   "source": [
    "## XG Boost (2)"
   ]
  },
  {
   "cell_type": "code",
   "execution_count": 18,
   "metadata": {},
   "outputs": [
    {
     "name": "stderr",
     "output_type": "stream",
     "text": [
      "/home/kodolamacz/anaconda3/lib/python3.7/site-packages/sklearn/model_selection/_split.py:2053: FutureWarning: You should specify a value for 'cv' instead of relying on the default value. The default value will change from 3 to 5 in version 0.22.\n",
      "  warnings.warn(CV_WARNING, FutureWarning)\n",
      "[Parallel(n_jobs=-1)]: Using backend SequentialBackend with 1 concurrent workers.\n",
      "/home/kodolamacz/anaconda3/lib/python3.7/site-packages/xgboost/core.py:587: FutureWarning: Series.base is deprecated and will be removed in a future version\n",
      "  if getattr(data, 'base', None) is not None and \\\n"
     ]
    },
    {
     "name": "stdout",
     "output_type": "stream",
     "text": [
      "Fitting 3 folds for each of 60 candidates, totalling 180 fits\n",
      "[CV] learning_rate=0.06, max_depth=5, n_estimators=100 ...............\n",
      "[CV]  learning_rate=0.06, max_depth=5, n_estimators=100, score=0.7487763168535128, total=   0.5s\n",
      "[CV] learning_rate=0.06, max_depth=5, n_estimators=100 ...............\n"
     ]
    },
    {
     "name": "stderr",
     "output_type": "stream",
     "text": [
      "[Parallel(n_jobs=-1)]: Done   1 out of   1 | elapsed:    0.5s remaining:    0.0s\n",
      "/home/kodolamacz/anaconda3/lib/python3.7/site-packages/xgboost/core.py:587: FutureWarning: Series.base is deprecated and will be removed in a future version\n",
      "  if getattr(data, 'base', None) is not None and \\\n"
     ]
    },
    {
     "name": "stdout",
     "output_type": "stream",
     "text": [
      "[CV]  learning_rate=0.06, max_depth=5, n_estimators=100, score=0.8232016682355425, total=   0.4s\n",
      "[CV] learning_rate=0.06, max_depth=5, n_estimators=100 ...............\n"
     ]
    },
    {
     "name": "stderr",
     "output_type": "stream",
     "text": [
      "[Parallel(n_jobs=-1)]: Done   2 out of   2 | elapsed:    0.9s remaining:    0.0s\n",
      "/home/kodolamacz/anaconda3/lib/python3.7/site-packages/xgboost/core.py:587: FutureWarning: Series.base is deprecated and will be removed in a future version\n",
      "  if getattr(data, 'base', None) is not None and \\\n"
     ]
    },
    {
     "name": "stdout",
     "output_type": "stream",
     "text": [
      "[CV]  learning_rate=0.06, max_depth=5, n_estimators=100, score=0.742805016167076, total=   0.4s\n",
      "[CV] learning_rate=0.06, max_depth=5, n_estimators=200 ...............\n"
     ]
    },
    {
     "name": "stderr",
     "output_type": "stream",
     "text": [
      "[Parallel(n_jobs=-1)]: Done   3 out of   3 | elapsed:    1.4s remaining:    0.0s\n",
      "/home/kodolamacz/anaconda3/lib/python3.7/site-packages/xgboost/core.py:587: FutureWarning: Series.base is deprecated and will be removed in a future version\n",
      "  if getattr(data, 'base', None) is not None and \\\n"
     ]
    },
    {
     "name": "stdout",
     "output_type": "stream",
     "text": [
      "[CV]  learning_rate=0.06, max_depth=5, n_estimators=200, score=0.7529061142623412, total=   0.8s\n",
      "[CV] learning_rate=0.06, max_depth=5, n_estimators=200 ...............\n"
     ]
    },
    {
     "name": "stderr",
     "output_type": "stream",
     "text": [
      "[Parallel(n_jobs=-1)]: Done   4 out of   4 | elapsed:    2.2s remaining:    0.0s\n",
      "/home/kodolamacz/anaconda3/lib/python3.7/site-packages/xgboost/core.py:587: FutureWarning: Series.base is deprecated and will be removed in a future version\n",
      "  if getattr(data, 'base', None) is not None and \\\n"
     ]
    },
    {
     "name": "stdout",
     "output_type": "stream",
     "text": [
      "[CV]  learning_rate=0.06, max_depth=5, n_estimators=200, score=0.831954593334932, total=   0.6s\n",
      "[CV] learning_rate=0.06, max_depth=5, n_estimators=200 ...............\n"
     ]
    },
    {
     "name": "stderr",
     "output_type": "stream",
     "text": [
      "[Parallel(n_jobs=-1)]: Done   5 out of   5 | elapsed:    2.8s remaining:    0.0s\n",
      "/home/kodolamacz/anaconda3/lib/python3.7/site-packages/xgboost/core.py:587: FutureWarning: Series.base is deprecated and will be removed in a future version\n",
      "  if getattr(data, 'base', None) is not None and \\\n"
     ]
    },
    {
     "name": "stdout",
     "output_type": "stream",
     "text": [
      "[CV]  learning_rate=0.06, max_depth=5, n_estimators=200, score=0.7462488725289791, total=   0.6s\n",
      "[CV] learning_rate=0.06, max_depth=6, n_estimators=100 ...............\n"
     ]
    },
    {
     "name": "stderr",
     "output_type": "stream",
     "text": [
      "[Parallel(n_jobs=-1)]: Done   6 out of   6 | elapsed:    3.5s remaining:    0.0s\n",
      "/home/kodolamacz/anaconda3/lib/python3.7/site-packages/xgboost/core.py:587: FutureWarning: Series.base is deprecated and will be removed in a future version\n",
      "  if getattr(data, 'base', None) is not None and \\\n"
     ]
    },
    {
     "name": "stdout",
     "output_type": "stream",
     "text": [
      "[CV]  learning_rate=0.06, max_depth=6, n_estimators=100, score=0.7425138930600016, total=   0.3s\n",
      "[CV] learning_rate=0.06, max_depth=6, n_estimators=100 ...............\n"
     ]
    },
    {
     "name": "stderr",
     "output_type": "stream",
     "text": [
      "[Parallel(n_jobs=-1)]: Done   7 out of   7 | elapsed:    3.8s remaining:    0.0s\n",
      "/home/kodolamacz/anaconda3/lib/python3.7/site-packages/xgboost/core.py:587: FutureWarning: Series.base is deprecated and will be removed in a future version\n",
      "  if getattr(data, 'base', None) is not None and \\\n"
     ]
    },
    {
     "name": "stdout",
     "output_type": "stream",
     "text": [
      "[CV]  learning_rate=0.06, max_depth=6, n_estimators=100, score=0.8293644572613617, total=   0.5s\n",
      "[CV] learning_rate=0.06, max_depth=6, n_estimators=100 ...............\n"
     ]
    },
    {
     "name": "stderr",
     "output_type": "stream",
     "text": [
      "[Parallel(n_jobs=-1)]: Done   8 out of   8 | elapsed:    4.3s remaining:    0.0s\n",
      "/home/kodolamacz/anaconda3/lib/python3.7/site-packages/xgboost/core.py:587: FutureWarning: Series.base is deprecated and will be removed in a future version\n",
      "  if getattr(data, 'base', None) is not None and \\\n"
     ]
    },
    {
     "name": "stdout",
     "output_type": "stream",
     "text": [
      "[CV]  learning_rate=0.06, max_depth=6, n_estimators=100, score=0.7394415296898137, total=   0.4s\n",
      "[CV] learning_rate=0.06, max_depth=6, n_estimators=200 ...............\n"
     ]
    },
    {
     "name": "stderr",
     "output_type": "stream",
     "text": [
      "[Parallel(n_jobs=-1)]: Done   9 out of   9 | elapsed:    4.7s remaining:    0.0s\n",
      "/home/kodolamacz/anaconda3/lib/python3.7/site-packages/xgboost/core.py:587: FutureWarning: Series.base is deprecated and will be removed in a future version\n",
      "  if getattr(data, 'base', None) is not None and \\\n"
     ]
    },
    {
     "name": "stdout",
     "output_type": "stream",
     "text": [
      "[CV]  learning_rate=0.06, max_depth=6, n_estimators=200, score=0.7457429271317098, total=   0.6s\n",
      "[CV] learning_rate=0.06, max_depth=6, n_estimators=200 ...............\n"
     ]
    },
    {
     "name": "stderr",
     "output_type": "stream",
     "text": [
      "/home/kodolamacz/anaconda3/lib/python3.7/site-packages/xgboost/core.py:587: FutureWarning: Series.base is deprecated and will be removed in a future version\n",
      "  if getattr(data, 'base', None) is not None and \\\n"
     ]
    },
    {
     "name": "stdout",
     "output_type": "stream",
     "text": [
      "[CV]  learning_rate=0.06, max_depth=6, n_estimators=200, score=0.8363169658430221, total=   0.7s\n",
      "[CV] learning_rate=0.06, max_depth=6, n_estimators=200 ...............\n"
     ]
    },
    {
     "name": "stderr",
     "output_type": "stream",
     "text": [
      "/home/kodolamacz/anaconda3/lib/python3.7/site-packages/xgboost/core.py:587: FutureWarning: Series.base is deprecated and will be removed in a future version\n",
      "  if getattr(data, 'base', None) is not None and \\\n"
     ]
    },
    {
     "name": "stdout",
     "output_type": "stream",
     "text": [
      "[CV]  learning_rate=0.06, max_depth=6, n_estimators=200, score=0.7431591644497025, total=   0.7s\n",
      "[CV] learning_rate=0.06, max_depth=7, n_estimators=100 ...............\n"
     ]
    },
    {
     "name": "stderr",
     "output_type": "stream",
     "text": [
      "/home/kodolamacz/anaconda3/lib/python3.7/site-packages/xgboost/core.py:587: FutureWarning: Series.base is deprecated and will be removed in a future version\n",
      "  if getattr(data, 'base', None) is not None and \\\n"
     ]
    },
    {
     "name": "stdout",
     "output_type": "stream",
     "text": [
      "[CV]  learning_rate=0.06, max_depth=7, n_estimators=100, score=0.7276780065583652, total=   0.4s\n",
      "[CV] learning_rate=0.06, max_depth=7, n_estimators=100 ...............\n"
     ]
    },
    {
     "name": "stderr",
     "output_type": "stream",
     "text": [
      "/home/kodolamacz/anaconda3/lib/python3.7/site-packages/xgboost/core.py:587: FutureWarning: Series.base is deprecated and will be removed in a future version\n",
      "  if getattr(data, 'base', None) is not None and \\\n"
     ]
    },
    {
     "name": "stdout",
     "output_type": "stream",
     "text": [
      "[CV]  learning_rate=0.06, max_depth=7, n_estimators=100, score=0.8411041560060728, total=   0.6s\n",
      "[CV] learning_rate=0.06, max_depth=7, n_estimators=100 ...............\n"
     ]
    },
    {
     "name": "stderr",
     "output_type": "stream",
     "text": [
      "/home/kodolamacz/anaconda3/lib/python3.7/site-packages/xgboost/core.py:587: FutureWarning: Series.base is deprecated and will be removed in a future version\n",
      "  if getattr(data, 'base', None) is not None and \\\n"
     ]
    },
    {
     "name": "stdout",
     "output_type": "stream",
     "text": [
      "[CV]  learning_rate=0.06, max_depth=7, n_estimators=100, score=0.736675354597546, total=   0.4s\n",
      "[CV] learning_rate=0.06, max_depth=7, n_estimators=200 ...............\n"
     ]
    },
    {
     "name": "stderr",
     "output_type": "stream",
     "text": [
      "/home/kodolamacz/anaconda3/lib/python3.7/site-packages/xgboost/core.py:587: FutureWarning: Series.base is deprecated and will be removed in a future version\n",
      "  if getattr(data, 'base', None) is not None and \\\n"
     ]
    },
    {
     "name": "stdout",
     "output_type": "stream",
     "text": [
      "[CV]  learning_rate=0.06, max_depth=7, n_estimators=200, score=0.7251363732030554, total=   0.8s\n",
      "[CV] learning_rate=0.06, max_depth=7, n_estimators=200 ...............\n"
     ]
    },
    {
     "name": "stderr",
     "output_type": "stream",
     "text": [
      "/home/kodolamacz/anaconda3/lib/python3.7/site-packages/xgboost/core.py:587: FutureWarning: Series.base is deprecated and will be removed in a future version\n",
      "  if getattr(data, 'base', None) is not None and \\\n"
     ]
    },
    {
     "name": "stdout",
     "output_type": "stream",
     "text": [
      "[CV]  learning_rate=0.06, max_depth=7, n_estimators=200, score=0.8441950071502937, total=   0.7s\n",
      "[CV] learning_rate=0.06, max_depth=7, n_estimators=200 ...............\n"
     ]
    },
    {
     "name": "stderr",
     "output_type": "stream",
     "text": [
      "/home/kodolamacz/anaconda3/lib/python3.7/site-packages/xgboost/core.py:587: FutureWarning: Series.base is deprecated and will be removed in a future version\n",
      "  if getattr(data, 'base', None) is not None and \\\n"
     ]
    },
    {
     "name": "stdout",
     "output_type": "stream",
     "text": [
      "[CV]  learning_rate=0.06, max_depth=7, n_estimators=200, score=0.7395052894547776, total=   1.0s\n",
      "[CV] learning_rate=0.06, max_depth=8, n_estimators=100 ...............\n"
     ]
    },
    {
     "name": "stderr",
     "output_type": "stream",
     "text": [
      "/home/kodolamacz/anaconda3/lib/python3.7/site-packages/xgboost/core.py:587: FutureWarning: Series.base is deprecated and will be removed in a future version\n",
      "  if getattr(data, 'base', None) is not None and \\\n"
     ]
    },
    {
     "name": "stdout",
     "output_type": "stream",
     "text": [
      "[CV]  learning_rate=0.06, max_depth=8, n_estimators=100, score=0.7143051262308999, total=   0.7s\n",
      "[CV] learning_rate=0.06, max_depth=8, n_estimators=100 ...............\n"
     ]
    },
    {
     "name": "stderr",
     "output_type": "stream",
     "text": [
      "/home/kodolamacz/anaconda3/lib/python3.7/site-packages/xgboost/core.py:587: FutureWarning: Series.base is deprecated and will be removed in a future version\n",
      "  if getattr(data, 'base', None) is not None and \\\n"
     ]
    },
    {
     "name": "stdout",
     "output_type": "stream",
     "text": [
      "[CV]  learning_rate=0.06, max_depth=8, n_estimators=100, score=0.8309673452659083, total=   0.8s\n",
      "[CV] learning_rate=0.06, max_depth=8, n_estimators=100 ...............\n"
     ]
    },
    {
     "name": "stderr",
     "output_type": "stream",
     "text": [
      "/home/kodolamacz/anaconda3/lib/python3.7/site-packages/xgboost/core.py:587: FutureWarning: Series.base is deprecated and will be removed in a future version\n",
      "  if getattr(data, 'base', None) is not None and \\\n"
     ]
    },
    {
     "name": "stdout",
     "output_type": "stream",
     "text": [
      "[CV]  learning_rate=0.06, max_depth=8, n_estimators=100, score=0.7355239341711649, total=   0.6s\n",
      "[CV] learning_rate=0.06, max_depth=8, n_estimators=200 ...............\n"
     ]
    },
    {
     "name": "stderr",
     "output_type": "stream",
     "text": [
      "/home/kodolamacz/anaconda3/lib/python3.7/site-packages/xgboost/core.py:587: FutureWarning: Series.base is deprecated and will be removed in a future version\n",
      "  if getattr(data, 'base', None) is not None and \\\n"
     ]
    },
    {
     "name": "stdout",
     "output_type": "stream",
     "text": [
      "[CV]  learning_rate=0.06, max_depth=8, n_estimators=200, score=0.7129006456207941, total=   0.7s\n",
      "[CV] learning_rate=0.06, max_depth=8, n_estimators=200 ...............\n"
     ]
    },
    {
     "name": "stderr",
     "output_type": "stream",
     "text": [
      "/home/kodolamacz/anaconda3/lib/python3.7/site-packages/xgboost/core.py:587: FutureWarning: Series.base is deprecated and will be removed in a future version\n",
      "  if getattr(data, 'base', None) is not None and \\\n"
     ]
    },
    {
     "name": "stdout",
     "output_type": "stream",
     "text": [
      "[CV]  learning_rate=0.06, max_depth=8, n_estimators=200, score=0.8346892457493063, total=   1.0s\n",
      "[CV] learning_rate=0.06, max_depth=8, n_estimators=200 ...............\n"
     ]
    },
    {
     "name": "stderr",
     "output_type": "stream",
     "text": [
      "/home/kodolamacz/anaconda3/lib/python3.7/site-packages/xgboost/core.py:587: FutureWarning: Series.base is deprecated and will be removed in a future version\n",
      "  if getattr(data, 'base', None) is not None and \\\n"
     ]
    },
    {
     "name": "stdout",
     "output_type": "stream",
     "text": [
      "[CV]  learning_rate=0.06, max_depth=8, n_estimators=200, score=0.73800509699926, total=   1.0s\n",
      "[CV] learning_rate=0.06, max_depth=9, n_estimators=100 ...............\n"
     ]
    },
    {
     "name": "stderr",
     "output_type": "stream",
     "text": [
      "/home/kodolamacz/anaconda3/lib/python3.7/site-packages/xgboost/core.py:587: FutureWarning: Series.base is deprecated and will be removed in a future version\n",
      "  if getattr(data, 'base', None) is not None and \\\n"
     ]
    },
    {
     "name": "stdout",
     "output_type": "stream",
     "text": [
      "[CV]  learning_rate=0.06, max_depth=9, n_estimators=100, score=0.7129453331300958, total=   0.6s\n",
      "[CV] learning_rate=0.06, max_depth=9, n_estimators=100 ...............\n"
     ]
    },
    {
     "name": "stderr",
     "output_type": "stream",
     "text": [
      "/home/kodolamacz/anaconda3/lib/python3.7/site-packages/xgboost/core.py:587: FutureWarning: Series.base is deprecated and will be removed in a future version\n",
      "  if getattr(data, 'base', None) is not None and \\\n"
     ]
    },
    {
     "name": "stdout",
     "output_type": "stream",
     "text": [
      "[CV]  learning_rate=0.06, max_depth=9, n_estimators=100, score=0.8373817864420838, total=   0.6s\n",
      "[CV] learning_rate=0.06, max_depth=9, n_estimators=100 ...............\n"
     ]
    },
    {
     "name": "stderr",
     "output_type": "stream",
     "text": [
      "/home/kodolamacz/anaconda3/lib/python3.7/site-packages/xgboost/core.py:587: FutureWarning: Series.base is deprecated and will be removed in a future version\n",
      "  if getattr(data, 'base', None) is not None and \\\n"
     ]
    },
    {
     "name": "stdout",
     "output_type": "stream",
     "text": [
      "[CV]  learning_rate=0.06, max_depth=9, n_estimators=100, score=0.7357362775553539, total=   0.5s\n",
      "[CV] learning_rate=0.06, max_depth=9, n_estimators=200 ...............\n"
     ]
    },
    {
     "name": "stderr",
     "output_type": "stream",
     "text": [
      "/home/kodolamacz/anaconda3/lib/python3.7/site-packages/xgboost/core.py:587: FutureWarning: Series.base is deprecated and will be removed in a future version\n",
      "  if getattr(data, 'base', None) is not None and \\\n"
     ]
    },
    {
     "name": "stdout",
     "output_type": "stream",
     "text": [
      "[CV]  learning_rate=0.06, max_depth=9, n_estimators=200, score=0.7115244224833369, total=   1.1s\n",
      "[CV] learning_rate=0.06, max_depth=9, n_estimators=200 ...............\n"
     ]
    },
    {
     "name": "stderr",
     "output_type": "stream",
     "text": [
      "/home/kodolamacz/anaconda3/lib/python3.7/site-packages/xgboost/core.py:587: FutureWarning: Series.base is deprecated and will be removed in a future version\n",
      "  if getattr(data, 'base', None) is not None and \\\n"
     ]
    },
    {
     "name": "stdout",
     "output_type": "stream",
     "text": [
      "[CV]  learning_rate=0.06, max_depth=9, n_estimators=200, score=0.8397127174299277, total=   0.9s\n",
      "[CV] learning_rate=0.06, max_depth=9, n_estimators=200 ...............\n"
     ]
    },
    {
     "name": "stderr",
     "output_type": "stream",
     "text": [
      "/home/kodolamacz/anaconda3/lib/python3.7/site-packages/xgboost/core.py:587: FutureWarning: Series.base is deprecated and will be removed in a future version\n",
      "  if getattr(data, 'base', None) is not None and \\\n"
     ]
    },
    {
     "name": "stdout",
     "output_type": "stream",
     "text": [
      "[CV]  learning_rate=0.06, max_depth=9, n_estimators=200, score=0.7369072984256291, total=   0.8s\n",
      "[CV] learning_rate=0.06, max_depth=10, n_estimators=100 ..............\n"
     ]
    },
    {
     "name": "stderr",
     "output_type": "stream",
     "text": [
      "/home/kodolamacz/anaconda3/lib/python3.7/site-packages/xgboost/core.py:587: FutureWarning: Series.base is deprecated and will be removed in a future version\n",
      "  if getattr(data, 'base', None) is not None and \\\n"
     ]
    },
    {
     "name": "stdout",
     "output_type": "stream",
     "text": [
      "[CV]  learning_rate=0.06, max_depth=10, n_estimators=100, score=0.7195292587512521, total=   0.6s\n",
      "[CV] learning_rate=0.06, max_depth=10, n_estimators=100 ..............\n"
     ]
    },
    {
     "name": "stderr",
     "output_type": "stream",
     "text": [
      "/home/kodolamacz/anaconda3/lib/python3.7/site-packages/xgboost/core.py:587: FutureWarning: Series.base is deprecated and will be removed in a future version\n",
      "  if getattr(data, 'base', None) is not None and \\\n"
     ]
    },
    {
     "name": "stdout",
     "output_type": "stream",
     "text": [
      "[CV]  learning_rate=0.06, max_depth=10, n_estimators=100, score=0.8337160299991833, total=   0.6s\n",
      "[CV] learning_rate=0.06, max_depth=10, n_estimators=100 ..............\n"
     ]
    },
    {
     "name": "stderr",
     "output_type": "stream",
     "text": [
      "/home/kodolamacz/anaconda3/lib/python3.7/site-packages/xgboost/core.py:587: FutureWarning: Series.base is deprecated and will be removed in a future version\n",
      "  if getattr(data, 'base', None) is not None and \\\n"
     ]
    },
    {
     "name": "stdout",
     "output_type": "stream",
     "text": [
      "[CV]  learning_rate=0.06, max_depth=10, n_estimators=100, score=0.7367587522103123, total=   0.6s\n",
      "[CV] learning_rate=0.06, max_depth=10, n_estimators=200 ..............\n"
     ]
    },
    {
     "name": "stderr",
     "output_type": "stream",
     "text": [
      "/home/kodolamacz/anaconda3/lib/python3.7/site-packages/xgboost/core.py:587: FutureWarning: Series.base is deprecated and will be removed in a future version\n",
      "  if getattr(data, 'base', None) is not None and \\\n"
     ]
    },
    {
     "name": "stdout",
     "output_type": "stream",
     "text": [
      "[CV]  learning_rate=0.06, max_depth=10, n_estimators=200, score=0.7186326734188517, total=   0.9s\n",
      "[CV] learning_rate=0.06, max_depth=10, n_estimators=200 ..............\n"
     ]
    },
    {
     "name": "stderr",
     "output_type": "stream",
     "text": [
      "/home/kodolamacz/anaconda3/lib/python3.7/site-packages/xgboost/core.py:587: FutureWarning: Series.base is deprecated and will be removed in a future version\n",
      "  if getattr(data, 'base', None) is not None and \\\n"
     ]
    },
    {
     "name": "stdout",
     "output_type": "stream",
     "text": [
      "[CV]  learning_rate=0.06, max_depth=10, n_estimators=200, score=0.8355420479877357, total=   1.0s\n",
      "[CV] learning_rate=0.06, max_depth=10, n_estimators=200 ..............\n"
     ]
    },
    {
     "name": "stderr",
     "output_type": "stream",
     "text": [
      "/home/kodolamacz/anaconda3/lib/python3.7/site-packages/xgboost/core.py:587: FutureWarning: Series.base is deprecated and will be removed in a future version\n",
      "  if getattr(data, 'base', None) is not None and \\\n"
     ]
    },
    {
     "name": "stdout",
     "output_type": "stream",
     "text": [
      "[CV]  learning_rate=0.06, max_depth=10, n_estimators=200, score=0.7377499379287649, total=   0.9s\n",
      "[CV] learning_rate=0.07, max_depth=5, n_estimators=100 ...............\n",
      "[CV]  learning_rate=0.07, max_depth=5, n_estimators=100, score=0.7583927215835325, total=   0.2s\n",
      "[CV] learning_rate=0.07, max_depth=5, n_estimators=100 ...............\n"
     ]
    },
    {
     "name": "stderr",
     "output_type": "stream",
     "text": [
      "/home/kodolamacz/anaconda3/lib/python3.7/site-packages/xgboost/core.py:587: FutureWarning: Series.base is deprecated and will be removed in a future version\n",
      "  if getattr(data, 'base', None) is not None and \\\n",
      "/home/kodolamacz/anaconda3/lib/python3.7/site-packages/xgboost/core.py:587: FutureWarning: Series.base is deprecated and will be removed in a future version\n",
      "  if getattr(data, 'base', None) is not None and \\\n"
     ]
    },
    {
     "name": "stdout",
     "output_type": "stream",
     "text": [
      "[CV]  learning_rate=0.07, max_depth=5, n_estimators=100, score=0.8240270061934281, total=   0.3s\n",
      "[CV] learning_rate=0.07, max_depth=5, n_estimators=100 ...............\n",
      "[CV]  learning_rate=0.07, max_depth=5, n_estimators=100, score=0.7420212341626488, total=   0.2s\n",
      "[CV] learning_rate=0.07, max_depth=5, n_estimators=200 ...............\n"
     ]
    },
    {
     "name": "stderr",
     "output_type": "stream",
     "text": [
      "/home/kodolamacz/anaconda3/lib/python3.7/site-packages/xgboost/core.py:587: FutureWarning: Series.base is deprecated and will be removed in a future version\n",
      "  if getattr(data, 'base', None) is not None and \\\n",
      "/home/kodolamacz/anaconda3/lib/python3.7/site-packages/xgboost/core.py:587: FutureWarning: Series.base is deprecated and will be removed in a future version\n",
      "  if getattr(data, 'base', None) is not None and \\\n"
     ]
    },
    {
     "name": "stdout",
     "output_type": "stream",
     "text": [
      "[CV]  learning_rate=0.07, max_depth=5, n_estimators=200, score=0.7599375418228266, total=   0.5s\n",
      "[CV] learning_rate=0.07, max_depth=5, n_estimators=200 ...............\n"
     ]
    },
    {
     "name": "stderr",
     "output_type": "stream",
     "text": [
      "/home/kodolamacz/anaconda3/lib/python3.7/site-packages/xgboost/core.py:587: FutureWarning: Series.base is deprecated and will be removed in a future version\n",
      "  if getattr(data, 'base', None) is not None and \\\n"
     ]
    },
    {
     "name": "stdout",
     "output_type": "stream",
     "text": [
      "[CV]  learning_rate=0.07, max_depth=5, n_estimators=200, score=0.8355095065945418, total=   0.5s\n",
      "[CV] learning_rate=0.07, max_depth=5, n_estimators=200 ...............\n"
     ]
    },
    {
     "name": "stderr",
     "output_type": "stream",
     "text": [
      "/home/kodolamacz/anaconda3/lib/python3.7/site-packages/xgboost/core.py:587: FutureWarning: Series.base is deprecated and will be removed in a future version\n",
      "  if getattr(data, 'base', None) is not None and \\\n"
     ]
    },
    {
     "name": "stdout",
     "output_type": "stream",
     "text": [
      "[CV]  learning_rate=0.07, max_depth=5, n_estimators=200, score=0.7468163789501154, total=   0.5s\n",
      "[CV] learning_rate=0.07, max_depth=6, n_estimators=100 ...............\n"
     ]
    },
    {
     "name": "stderr",
     "output_type": "stream",
     "text": [
      "/home/kodolamacz/anaconda3/lib/python3.7/site-packages/xgboost/core.py:587: FutureWarning: Series.base is deprecated and will be removed in a future version\n",
      "  if getattr(data, 'base', None) is not None and \\\n"
     ]
    },
    {
     "name": "stdout",
     "output_type": "stream",
     "text": [
      "[CV]  learning_rate=0.07, max_depth=6, n_estimators=100, score=0.7386859576919199, total=   0.3s\n",
      "[CV] learning_rate=0.07, max_depth=6, n_estimators=100 ...............\n"
     ]
    },
    {
     "name": "stderr",
     "output_type": "stream",
     "text": [
      "/home/kodolamacz/anaconda3/lib/python3.7/site-packages/xgboost/core.py:587: FutureWarning: Series.base is deprecated and will be removed in a future version\n",
      "  if getattr(data, 'base', None) is not None and \\\n"
     ]
    },
    {
     "name": "stdout",
     "output_type": "stream",
     "text": [
      "[CV]  learning_rate=0.07, max_depth=6, n_estimators=100, score=0.836846334879604, total=   0.4s\n",
      "[CV] learning_rate=0.07, max_depth=6, n_estimators=100 ...............\n"
     ]
    },
    {
     "name": "stderr",
     "output_type": "stream",
     "text": [
      "/home/kodolamacz/anaconda3/lib/python3.7/site-packages/xgboost/core.py:587: FutureWarning: Series.base is deprecated and will be removed in a future version\n",
      "  if getattr(data, 'base', None) is not None and \\\n"
     ]
    },
    {
     "name": "stdout",
     "output_type": "stream",
     "text": [
      "[CV]  learning_rate=0.07, max_depth=6, n_estimators=100, score=0.7361038737797376, total=   0.3s\n",
      "[CV] learning_rate=0.07, max_depth=6, n_estimators=200 ...............\n"
     ]
    },
    {
     "name": "stderr",
     "output_type": "stream",
     "text": [
      "/home/kodolamacz/anaconda3/lib/python3.7/site-packages/xgboost/core.py:587: FutureWarning: Series.base is deprecated and will be removed in a future version\n",
      "  if getattr(data, 'base', None) is not None and \\\n"
     ]
    },
    {
     "name": "stdout",
     "output_type": "stream",
     "text": [
      "[CV]  learning_rate=0.07, max_depth=6, n_estimators=200, score=0.743011405021313, total=   0.7s\n",
      "[CV] learning_rate=0.07, max_depth=6, n_estimators=200 ...............\n"
     ]
    },
    {
     "name": "stderr",
     "output_type": "stream",
     "text": [
      "/home/kodolamacz/anaconda3/lib/python3.7/site-packages/xgboost/core.py:587: FutureWarning: Series.base is deprecated and will be removed in a future version\n",
      "  if getattr(data, 'base', None) is not None and \\\n"
     ]
    },
    {
     "name": "stdout",
     "output_type": "stream",
     "text": [
      "[CV]  learning_rate=0.07, max_depth=6, n_estimators=200, score=0.8444736006256239, total=   1.1s\n",
      "[CV] learning_rate=0.07, max_depth=6, n_estimators=200 ...............\n"
     ]
    },
    {
     "name": "stderr",
     "output_type": "stream",
     "text": [
      "/home/kodolamacz/anaconda3/lib/python3.7/site-packages/xgboost/core.py:587: FutureWarning: Series.base is deprecated and will be removed in a future version\n",
      "  if getattr(data, 'base', None) is not None and \\\n"
     ]
    },
    {
     "name": "stdout",
     "output_type": "stream",
     "text": [
      "[CV]  learning_rate=0.07, max_depth=6, n_estimators=200, score=0.7374932737676172, total=   1.2s\n",
      "[CV] learning_rate=0.07, max_depth=7, n_estimators=100 ...............\n"
     ]
    },
    {
     "name": "stderr",
     "output_type": "stream",
     "text": [
      "/home/kodolamacz/anaconda3/lib/python3.7/site-packages/xgboost/core.py:587: FutureWarning: Series.base is deprecated and will be removed in a future version\n",
      "  if getattr(data, 'base', None) is not None and \\\n"
     ]
    },
    {
     "name": "stdout",
     "output_type": "stream",
     "text": [
      "[CV]  learning_rate=0.07, max_depth=7, n_estimators=100, score=0.7307705939453157, total=   0.7s\n",
      "[CV] learning_rate=0.07, max_depth=7, n_estimators=100 ...............\n"
     ]
    },
    {
     "name": "stderr",
     "output_type": "stream",
     "text": [
      "/home/kodolamacz/anaconda3/lib/python3.7/site-packages/xgboost/core.py:587: FutureWarning: Series.base is deprecated and will be removed in a future version\n",
      "  if getattr(data, 'base', None) is not None and \\\n"
     ]
    },
    {
     "name": "stdout",
     "output_type": "stream",
     "text": [
      "[CV]  learning_rate=0.07, max_depth=7, n_estimators=100, score=0.8442036028822393, total=   0.8s\n",
      "[CV] learning_rate=0.07, max_depth=7, n_estimators=100 ...............\n"
     ]
    },
    {
     "name": "stderr",
     "output_type": "stream",
     "text": [
      "/home/kodolamacz/anaconda3/lib/python3.7/site-packages/xgboost/core.py:587: FutureWarning: Series.base is deprecated and will be removed in a future version\n",
      "  if getattr(data, 'base', None) is not None and \\\n"
     ]
    },
    {
     "name": "stdout",
     "output_type": "stream",
     "text": [
      "[CV]  learning_rate=0.07, max_depth=7, n_estimators=100, score=0.7423403712945678, total=   0.7s\n",
      "[CV] learning_rate=0.07, max_depth=7, n_estimators=200 ...............\n"
     ]
    },
    {
     "name": "stderr",
     "output_type": "stream",
     "text": [
      "/home/kodolamacz/anaconda3/lib/python3.7/site-packages/xgboost/core.py:587: FutureWarning: Series.base is deprecated and will be removed in a future version\n",
      "  if getattr(data, 'base', None) is not None and \\\n"
     ]
    },
    {
     "name": "stdout",
     "output_type": "stream",
     "text": [
      "[CV]  learning_rate=0.07, max_depth=7, n_estimators=200, score=0.7300809242745363, total=   1.3s\n",
      "[CV] learning_rate=0.07, max_depth=7, n_estimators=200 ...............\n"
     ]
    },
    {
     "name": "stderr",
     "output_type": "stream",
     "text": [
      "/home/kodolamacz/anaconda3/lib/python3.7/site-packages/xgboost/core.py:587: FutureWarning: Series.base is deprecated and will be removed in a future version\n",
      "  if getattr(data, 'base', None) is not None and \\\n"
     ]
    },
    {
     "name": "stdout",
     "output_type": "stream",
     "text": [
      "[CV]  learning_rate=0.07, max_depth=7, n_estimators=200, score=0.844925291964179, total=   1.1s\n",
      "[CV] learning_rate=0.07, max_depth=7, n_estimators=200 ...............\n"
     ]
    },
    {
     "name": "stderr",
     "output_type": "stream",
     "text": [
      "/home/kodolamacz/anaconda3/lib/python3.7/site-packages/xgboost/core.py:587: FutureWarning: Series.base is deprecated and will be removed in a future version\n",
      "  if getattr(data, 'base', None) is not None and \\\n"
     ]
    },
    {
     "name": "stdout",
     "output_type": "stream",
     "text": [
      "[CV]  learning_rate=0.07, max_depth=7, n_estimators=200, score=0.7426976153426537, total=   0.6s\n",
      "[CV] learning_rate=0.07, max_depth=8, n_estimators=100 ...............\n"
     ]
    },
    {
     "name": "stderr",
     "output_type": "stream",
     "text": [
      "/home/kodolamacz/anaconda3/lib/python3.7/site-packages/xgboost/core.py:587: FutureWarning: Series.base is deprecated and will be removed in a future version\n",
      "  if getattr(data, 'base', None) is not None and \\\n"
     ]
    },
    {
     "name": "stdout",
     "output_type": "stream",
     "text": [
      "[CV]  learning_rate=0.07, max_depth=8, n_estimators=100, score=0.7299865250395673, total=   0.7s\n",
      "[CV] learning_rate=0.07, max_depth=8, n_estimators=100 ...............\n"
     ]
    },
    {
     "name": "stderr",
     "output_type": "stream",
     "text": [
      "/home/kodolamacz/anaconda3/lib/python3.7/site-packages/xgboost/core.py:587: FutureWarning: Series.base is deprecated and will be removed in a future version\n",
      "  if getattr(data, 'base', None) is not None and \\\n"
     ]
    },
    {
     "name": "stdout",
     "output_type": "stream",
     "text": [
      "[CV]  learning_rate=0.07, max_depth=8, n_estimators=100, score=0.841751393044661, total=   0.6s\n",
      "[CV] learning_rate=0.07, max_depth=8, n_estimators=100 ...............\n"
     ]
    },
    {
     "name": "stderr",
     "output_type": "stream",
     "text": [
      "/home/kodolamacz/anaconda3/lib/python3.7/site-packages/xgboost/core.py:587: FutureWarning: Series.base is deprecated and will be removed in a future version\n",
      "  if getattr(data, 'base', None) is not None and \\\n"
     ]
    },
    {
     "name": "stdout",
     "output_type": "stream",
     "text": [
      "[CV]  learning_rate=0.07, max_depth=8, n_estimators=100, score=0.7400322256364756, total=   0.9s\n",
      "[CV] learning_rate=0.07, max_depth=8, n_estimators=200 ...............\n"
     ]
    },
    {
     "name": "stderr",
     "output_type": "stream",
     "text": [
      "/home/kodolamacz/anaconda3/lib/python3.7/site-packages/xgboost/core.py:587: FutureWarning: Series.base is deprecated and will be removed in a future version\n",
      "  if getattr(data, 'base', None) is not None and \\\n"
     ]
    },
    {
     "name": "stdout",
     "output_type": "stream",
     "text": [
      "[CV]  learning_rate=0.07, max_depth=8, n_estimators=200, score=0.72894399218807, total=   0.7s\n",
      "[CV] learning_rate=0.07, max_depth=8, n_estimators=200 ...............\n"
     ]
    },
    {
     "name": "stderr",
     "output_type": "stream",
     "text": [
      "/home/kodolamacz/anaconda3/lib/python3.7/site-packages/xgboost/core.py:587: FutureWarning: Series.base is deprecated and will be removed in a future version\n",
      "  if getattr(data, 'base', None) is not None and \\\n"
     ]
    },
    {
     "name": "stdout",
     "output_type": "stream",
     "text": [
      "[CV]  learning_rate=0.07, max_depth=8, n_estimators=200, score=0.8429781611568727, total=   0.6s\n",
      "[CV] learning_rate=0.07, max_depth=8, n_estimators=200 ...............\n"
     ]
    },
    {
     "name": "stderr",
     "output_type": "stream",
     "text": [
      "/home/kodolamacz/anaconda3/lib/python3.7/site-packages/xgboost/core.py:587: FutureWarning: Series.base is deprecated and will be removed in a future version\n",
      "  if getattr(data, 'base', None) is not None and \\\n"
     ]
    },
    {
     "name": "stdout",
     "output_type": "stream",
     "text": [
      "[CV]  learning_rate=0.07, max_depth=8, n_estimators=200, score=0.7398390479874362, total=   0.6s\n",
      "[CV] learning_rate=0.07, max_depth=9, n_estimators=100 ...............\n"
     ]
    },
    {
     "name": "stderr",
     "output_type": "stream",
     "text": [
      "/home/kodolamacz/anaconda3/lib/python3.7/site-packages/xgboost/core.py:587: FutureWarning: Series.base is deprecated and will be removed in a future version\n",
      "  if getattr(data, 'base', None) is not None and \\\n"
     ]
    },
    {
     "name": "stdout",
     "output_type": "stream",
     "text": [
      "[CV]  learning_rate=0.07, max_depth=9, n_estimators=100, score=0.7139607595477349, total=   0.4s\n",
      "[CV] learning_rate=0.07, max_depth=9, n_estimators=100 ...............\n"
     ]
    },
    {
     "name": "stderr",
     "output_type": "stream",
     "text": [
      "/home/kodolamacz/anaconda3/lib/python3.7/site-packages/xgboost/core.py:587: FutureWarning: Series.base is deprecated and will be removed in a future version\n",
      "  if getattr(data, 'base', None) is not None and \\\n"
     ]
    },
    {
     "name": "stdout",
     "output_type": "stream",
     "text": [
      "[CV]  learning_rate=0.07, max_depth=9, n_estimators=100, score=0.8443889043890682, total=   0.3s\n",
      "[CV] learning_rate=0.07, max_depth=9, n_estimators=100 ...............\n"
     ]
    },
    {
     "name": "stderr",
     "output_type": "stream",
     "text": [
      "/home/kodolamacz/anaconda3/lib/python3.7/site-packages/xgboost/core.py:587: FutureWarning: Series.base is deprecated and will be removed in a future version\n",
      "  if getattr(data, 'base', None) is not None and \\\n"
     ]
    },
    {
     "name": "stdout",
     "output_type": "stream",
     "text": [
      "[CV]  learning_rate=0.07, max_depth=9, n_estimators=100, score=0.7467641225800684, total=   0.4s\n",
      "[CV] learning_rate=0.07, max_depth=9, n_estimators=200 ...............\n"
     ]
    },
    {
     "name": "stderr",
     "output_type": "stream",
     "text": [
      "/home/kodolamacz/anaconda3/lib/python3.7/site-packages/xgboost/core.py:587: FutureWarning: Series.base is deprecated and will be removed in a future version\n",
      "  if getattr(data, 'base', None) is not None and \\\n"
     ]
    },
    {
     "name": "stdout",
     "output_type": "stream",
     "text": [
      "[CV]  learning_rate=0.07, max_depth=9, n_estimators=200, score=0.7123857867717724, total=   1.5s\n",
      "[CV] learning_rate=0.07, max_depth=9, n_estimators=200 ...............\n"
     ]
    },
    {
     "name": "stderr",
     "output_type": "stream",
     "text": [
      "/home/kodolamacz/anaconda3/lib/python3.7/site-packages/xgboost/core.py:587: FutureWarning: Series.base is deprecated and will be removed in a future version\n",
      "  if getattr(data, 'base', None) is not None and \\\n"
     ]
    },
    {
     "name": "stdout",
     "output_type": "stream",
     "text": [
      "[CV]  learning_rate=0.07, max_depth=9, n_estimators=200, score=0.8450955164432825, total=   1.3s\n",
      "[CV] learning_rate=0.07, max_depth=9, n_estimators=200 ...............\n"
     ]
    },
    {
     "name": "stderr",
     "output_type": "stream",
     "text": [
      "/home/kodolamacz/anaconda3/lib/python3.7/site-packages/xgboost/core.py:587: FutureWarning: Series.base is deprecated and will be removed in a future version\n",
      "  if getattr(data, 'base', None) is not None and \\\n"
     ]
    },
    {
     "name": "stdout",
     "output_type": "stream",
     "text": [
      "[CV]  learning_rate=0.07, max_depth=9, n_estimators=200, score=0.7476022412708725, total=   1.1s\n",
      "[CV] learning_rate=0.07, max_depth=10, n_estimators=100 ..............\n"
     ]
    },
    {
     "name": "stderr",
     "output_type": "stream",
     "text": [
      "/home/kodolamacz/anaconda3/lib/python3.7/site-packages/xgboost/core.py:587: FutureWarning: Series.base is deprecated and will be removed in a future version\n",
      "  if getattr(data, 'base', None) is not None and \\\n"
     ]
    },
    {
     "name": "stdout",
     "output_type": "stream",
     "text": [
      "[CV]  learning_rate=0.07, max_depth=10, n_estimators=100, score=0.7231801020460458, total=   0.4s\n",
      "[CV] learning_rate=0.07, max_depth=10, n_estimators=100 ..............\n"
     ]
    },
    {
     "name": "stderr",
     "output_type": "stream",
     "text": [
      "/home/kodolamacz/anaconda3/lib/python3.7/site-packages/xgboost/core.py:587: FutureWarning: Series.base is deprecated and will be removed in a future version\n",
      "  if getattr(data, 'base', None) is not None and \\\n"
     ]
    },
    {
     "name": "stdout",
     "output_type": "stream",
     "text": [
      "[CV]  learning_rate=0.07, max_depth=10, n_estimators=100, score=0.836195399288714, total=   1.0s\n",
      "[CV] learning_rate=0.07, max_depth=10, n_estimators=100 ..............\n"
     ]
    },
    {
     "name": "stderr",
     "output_type": "stream",
     "text": [
      "/home/kodolamacz/anaconda3/lib/python3.7/site-packages/xgboost/core.py:587: FutureWarning: Series.base is deprecated and will be removed in a future version\n",
      "  if getattr(data, 'base', None) is not None and \\\n"
     ]
    },
    {
     "name": "stdout",
     "output_type": "stream",
     "text": [
      "[CV]  learning_rate=0.07, max_depth=10, n_estimators=100, score=0.7389475332652096, total=   0.4s\n",
      "[CV] learning_rate=0.07, max_depth=10, n_estimators=200 ..............\n"
     ]
    },
    {
     "name": "stderr",
     "output_type": "stream",
     "text": [
      "/home/kodolamacz/anaconda3/lib/python3.7/site-packages/xgboost/core.py:587: FutureWarning: Series.base is deprecated and will be removed in a future version\n",
      "  if getattr(data, 'base', None) is not None and \\\n"
     ]
    },
    {
     "name": "stdout",
     "output_type": "stream",
     "text": [
      "[CV]  learning_rate=0.07, max_depth=10, n_estimators=200, score=0.7225799552441339, total=   0.7s\n",
      "[CV] learning_rate=0.07, max_depth=10, n_estimators=200 ..............\n"
     ]
    },
    {
     "name": "stderr",
     "output_type": "stream",
     "text": [
      "/home/kodolamacz/anaconda3/lib/python3.7/site-packages/xgboost/core.py:587: FutureWarning: Series.base is deprecated and will be removed in a future version\n",
      "  if getattr(data, 'base', None) is not None and \\\n"
     ]
    },
    {
     "name": "stdout",
     "output_type": "stream",
     "text": [
      "[CV]  learning_rate=0.07, max_depth=10, n_estimators=200, score=0.837486207242268, total=   0.7s\n",
      "[CV] learning_rate=0.07, max_depth=10, n_estimators=200 ..............\n"
     ]
    },
    {
     "name": "stderr",
     "output_type": "stream",
     "text": [
      "/home/kodolamacz/anaconda3/lib/python3.7/site-packages/xgboost/core.py:587: FutureWarning: Series.base is deprecated and will be removed in a future version\n",
      "  if getattr(data, 'base', None) is not None and \\\n"
     ]
    },
    {
     "name": "stdout",
     "output_type": "stream",
     "text": [
      "[CV]  learning_rate=0.07, max_depth=10, n_estimators=200, score=0.7395199289384652, total=   1.6s\n",
      "[CV] learning_rate=0.08, max_depth=5, n_estimators=100 ...............\n"
     ]
    },
    {
     "name": "stderr",
     "output_type": "stream",
     "text": [
      "/home/kodolamacz/anaconda3/lib/python3.7/site-packages/xgboost/core.py:587: FutureWarning: Series.base is deprecated and will be removed in a future version\n",
      "  if getattr(data, 'base', None) is not None and \\\n"
     ]
    },
    {
     "name": "stdout",
     "output_type": "stream",
     "text": [
      "[CV]  learning_rate=0.08, max_depth=5, n_estimators=100, score=0.7526595530767864, total=   0.7s\n",
      "[CV] learning_rate=0.08, max_depth=5, n_estimators=100 ...............\n"
     ]
    },
    {
     "name": "stderr",
     "output_type": "stream",
     "text": [
      "/home/kodolamacz/anaconda3/lib/python3.7/site-packages/xgboost/core.py:587: FutureWarning: Series.base is deprecated and will be removed in a future version\n",
      "  if getattr(data, 'base', None) is not None and \\\n"
     ]
    },
    {
     "name": "stdout",
     "output_type": "stream",
     "text": [
      "[CV]  learning_rate=0.08, max_depth=5, n_estimators=100, score=0.8272259648203039, total=   0.7s\n",
      "[CV] learning_rate=0.08, max_depth=5, n_estimators=100 ...............\n"
     ]
    },
    {
     "name": "stderr",
     "output_type": "stream",
     "text": [
      "/home/kodolamacz/anaconda3/lib/python3.7/site-packages/xgboost/core.py:587: FutureWarning: Series.base is deprecated and will be removed in a future version\n",
      "  if getattr(data, 'base', None) is not None and \\\n"
     ]
    },
    {
     "name": "stdout",
     "output_type": "stream",
     "text": [
      "[CV]  learning_rate=0.08, max_depth=5, n_estimators=100, score=0.740362724806039, total=   0.6s\n",
      "[CV] learning_rate=0.08, max_depth=5, n_estimators=200 ...............\n"
     ]
    },
    {
     "name": "stderr",
     "output_type": "stream",
     "text": [
      "/home/kodolamacz/anaconda3/lib/python3.7/site-packages/xgboost/core.py:587: FutureWarning: Series.base is deprecated and will be removed in a future version\n",
      "  if getattr(data, 'base', None) is not None and \\\n"
     ]
    },
    {
     "name": "stdout",
     "output_type": "stream",
     "text": [
      "[CV]  learning_rate=0.08, max_depth=5, n_estimators=200, score=0.756570336414663, total=   1.2s\n",
      "[CV] learning_rate=0.08, max_depth=5, n_estimators=200 ...............\n"
     ]
    },
    {
     "name": "stderr",
     "output_type": "stream",
     "text": [
      "/home/kodolamacz/anaconda3/lib/python3.7/site-packages/xgboost/core.py:587: FutureWarning: Series.base is deprecated and will be removed in a future version\n",
      "  if getattr(data, 'base', None) is not None and \\\n"
     ]
    },
    {
     "name": "stdout",
     "output_type": "stream",
     "text": [
      "[CV]  learning_rate=0.08, max_depth=5, n_estimators=200, score=0.8369032667278864, total=   1.1s\n",
      "[CV] learning_rate=0.08, max_depth=5, n_estimators=200 ...............\n"
     ]
    },
    {
     "name": "stderr",
     "output_type": "stream",
     "text": [
      "/home/kodolamacz/anaconda3/lib/python3.7/site-packages/xgboost/core.py:587: FutureWarning: Series.base is deprecated and will be removed in a future version\n",
      "  if getattr(data, 'base', None) is not None and \\\n"
     ]
    },
    {
     "name": "stdout",
     "output_type": "stream",
     "text": [
      "[CV]  learning_rate=0.08, max_depth=5, n_estimators=200, score=0.745723158701114, total=   1.2s\n",
      "[CV] learning_rate=0.08, max_depth=6, n_estimators=100 ...............\n"
     ]
    },
    {
     "name": "stderr",
     "output_type": "stream",
     "text": [
      "/home/kodolamacz/anaconda3/lib/python3.7/site-packages/xgboost/core.py:587: FutureWarning: Series.base is deprecated and will be removed in a future version\n",
      "  if getattr(data, 'base', None) is not None and \\\n"
     ]
    },
    {
     "name": "stdout",
     "output_type": "stream",
     "text": [
      "[CV]  learning_rate=0.08, max_depth=6, n_estimators=100, score=0.7347474141894813, total=   0.6s\n",
      "[CV] learning_rate=0.08, max_depth=6, n_estimators=100 ...............\n"
     ]
    },
    {
     "name": "stderr",
     "output_type": "stream",
     "text": [
      "/home/kodolamacz/anaconda3/lib/python3.7/site-packages/xgboost/core.py:587: FutureWarning: Series.base is deprecated and will be removed in a future version\n",
      "  if getattr(data, 'base', None) is not None and \\\n"
     ]
    },
    {
     "name": "stdout",
     "output_type": "stream",
     "text": [
      "[CV]  learning_rate=0.08, max_depth=6, n_estimators=100, score=0.8376194066894407, total=   0.5s\n",
      "[CV] learning_rate=0.08, max_depth=6, n_estimators=100 ...............\n"
     ]
    },
    {
     "name": "stderr",
     "output_type": "stream",
     "text": [
      "/home/kodolamacz/anaconda3/lib/python3.7/site-packages/xgboost/core.py:587: FutureWarning: Series.base is deprecated and will be removed in a future version\n",
      "  if getattr(data, 'base', None) is not None and \\\n"
     ]
    },
    {
     "name": "stdout",
     "output_type": "stream",
     "text": [
      "[CV]  learning_rate=0.08, max_depth=6, n_estimators=100, score=0.7432923932395791, total=   0.3s\n",
      "[CV] learning_rate=0.08, max_depth=6, n_estimators=200 ...............\n"
     ]
    },
    {
     "name": "stderr",
     "output_type": "stream",
     "text": [
      "/home/kodolamacz/anaconda3/lib/python3.7/site-packages/xgboost/core.py:587: FutureWarning: Series.base is deprecated and will be removed in a future version\n",
      "  if getattr(data, 'base', None) is not None and \\\n"
     ]
    },
    {
     "name": "stdout",
     "output_type": "stream",
     "text": [
      "[CV]  learning_rate=0.08, max_depth=6, n_estimators=200, score=0.7372219671001208, total=   0.7s\n",
      "[CV] learning_rate=0.08, max_depth=6, n_estimators=200 ...............\n"
     ]
    },
    {
     "name": "stderr",
     "output_type": "stream",
     "text": [
      "/home/kodolamacz/anaconda3/lib/python3.7/site-packages/xgboost/core.py:587: FutureWarning: Series.base is deprecated and will be removed in a future version\n",
      "  if getattr(data, 'base', None) is not None and \\\n"
     ]
    },
    {
     "name": "stdout",
     "output_type": "stream",
     "text": [
      "[CV]  learning_rate=0.08, max_depth=6, n_estimators=200, score=0.8435782037042263, total=   0.6s\n",
      "[CV] learning_rate=0.08, max_depth=6, n_estimators=200 ...............\n"
     ]
    },
    {
     "name": "stderr",
     "output_type": "stream",
     "text": [
      "/home/kodolamacz/anaconda3/lib/python3.7/site-packages/xgboost/core.py:587: FutureWarning: Series.base is deprecated and will be removed in a future version\n",
      "  if getattr(data, 'base', None) is not None and \\\n"
     ]
    },
    {
     "name": "stdout",
     "output_type": "stream",
     "text": [
      "[CV]  learning_rate=0.08, max_depth=6, n_estimators=200, score=0.7454281555678821, total=   0.9s\n",
      "[CV] learning_rate=0.08, max_depth=7, n_estimators=100 ...............\n"
     ]
    },
    {
     "name": "stderr",
     "output_type": "stream",
     "text": [
      "/home/kodolamacz/anaconda3/lib/python3.7/site-packages/xgboost/core.py:587: FutureWarning: Series.base is deprecated and will be removed in a future version\n",
      "  if getattr(data, 'base', None) is not None and \\\n"
     ]
    },
    {
     "name": "stdout",
     "output_type": "stream",
     "text": [
      "[CV]  learning_rate=0.08, max_depth=7, n_estimators=100, score=0.7239541476618212, total=   0.5s\n",
      "[CV] learning_rate=0.08, max_depth=7, n_estimators=100 ...............\n"
     ]
    },
    {
     "name": "stderr",
     "output_type": "stream",
     "text": [
      "/home/kodolamacz/anaconda3/lib/python3.7/site-packages/xgboost/core.py:587: FutureWarning: Series.base is deprecated and will be removed in a future version\n",
      "  if getattr(data, 'base', None) is not None and \\\n"
     ]
    },
    {
     "name": "stdout",
     "output_type": "stream",
     "text": [
      "[CV]  learning_rate=0.08, max_depth=7, n_estimators=100, score=0.8356449327129113, total=   0.4s\n",
      "[CV] learning_rate=0.08, max_depth=7, n_estimators=100 ...............\n"
     ]
    },
    {
     "name": "stderr",
     "output_type": "stream",
     "text": [
      "/home/kodolamacz/anaconda3/lib/python3.7/site-packages/xgboost/core.py:587: FutureWarning: Series.base is deprecated and will be removed in a future version\n",
      "  if getattr(data, 'base', None) is not None and \\\n"
     ]
    },
    {
     "name": "stdout",
     "output_type": "stream",
     "text": [
      "[CV]  learning_rate=0.08, max_depth=7, n_estimators=100, score=0.7372187623625828, total=   0.3s\n",
      "[CV] learning_rate=0.08, max_depth=7, n_estimators=200 ...............\n"
     ]
    },
    {
     "name": "stderr",
     "output_type": "stream",
     "text": [
      "/home/kodolamacz/anaconda3/lib/python3.7/site-packages/xgboost/core.py:587: FutureWarning: Series.base is deprecated and will be removed in a future version\n",
      "  if getattr(data, 'base', None) is not None and \\\n"
     ]
    },
    {
     "name": "stdout",
     "output_type": "stream",
     "text": [
      "[CV]  learning_rate=0.08, max_depth=7, n_estimators=200, score=0.7211768767659351, total=   0.7s\n",
      "[CV] learning_rate=0.08, max_depth=7, n_estimators=200 ...............\n"
     ]
    },
    {
     "name": "stderr",
     "output_type": "stream",
     "text": [
      "/home/kodolamacz/anaconda3/lib/python3.7/site-packages/xgboost/core.py:587: FutureWarning: Series.base is deprecated and will be removed in a future version\n",
      "  if getattr(data, 'base', None) is not None and \\\n"
     ]
    },
    {
     "name": "stdout",
     "output_type": "stream",
     "text": [
      "[CV]  learning_rate=0.08, max_depth=7, n_estimators=200, score=0.8379303805353359, total=   0.6s\n",
      "[CV] learning_rate=0.08, max_depth=7, n_estimators=200 ...............\n"
     ]
    },
    {
     "name": "stderr",
     "output_type": "stream",
     "text": [
      "/home/kodolamacz/anaconda3/lib/python3.7/site-packages/xgboost/core.py:587: FutureWarning: Series.base is deprecated and will be removed in a future version\n",
      "  if getattr(data, 'base', None) is not None and \\\n"
     ]
    },
    {
     "name": "stdout",
     "output_type": "stream",
     "text": [
      "[CV]  learning_rate=0.08, max_depth=7, n_estimators=200, score=0.7380088242388719, total=   0.6s\n",
      "[CV] learning_rate=0.08, max_depth=8, n_estimators=100 ...............\n"
     ]
    },
    {
     "name": "stderr",
     "output_type": "stream",
     "text": [
      "/home/kodolamacz/anaconda3/lib/python3.7/site-packages/xgboost/core.py:587: FutureWarning: Series.base is deprecated and will be removed in a future version\n",
      "  if getattr(data, 'base', None) is not None and \\\n"
     ]
    },
    {
     "name": "stdout",
     "output_type": "stream",
     "text": [
      "[CV]  learning_rate=0.08, max_depth=8, n_estimators=100, score=0.7077916165009636, total=   0.4s\n",
      "[CV] learning_rate=0.08, max_depth=8, n_estimators=100 ...............\n"
     ]
    },
    {
     "name": "stderr",
     "output_type": "stream",
     "text": [
      "/home/kodolamacz/anaconda3/lib/python3.7/site-packages/xgboost/core.py:587: FutureWarning: Series.base is deprecated and will be removed in a future version\n",
      "  if getattr(data, 'base', None) is not None and \\\n"
     ]
    },
    {
     "name": "stdout",
     "output_type": "stream",
     "text": [
      "[CV]  learning_rate=0.08, max_depth=8, n_estimators=100, score=0.8410108163057789, total=   0.4s\n",
      "[CV] learning_rate=0.08, max_depth=8, n_estimators=100 ...............\n"
     ]
    },
    {
     "name": "stderr",
     "output_type": "stream",
     "text": [
      "/home/kodolamacz/anaconda3/lib/python3.7/site-packages/xgboost/core.py:587: FutureWarning: Series.base is deprecated and will be removed in a future version\n",
      "  if getattr(data, 'base', None) is not None and \\\n"
     ]
    },
    {
     "name": "stdout",
     "output_type": "stream",
     "text": [
      "[CV]  learning_rate=0.08, max_depth=8, n_estimators=100, score=0.7432570905341531, total=   0.4s\n",
      "[CV] learning_rate=0.08, max_depth=8, n_estimators=200 ...............\n"
     ]
    },
    {
     "name": "stderr",
     "output_type": "stream",
     "text": [
      "/home/kodolamacz/anaconda3/lib/python3.7/site-packages/xgboost/core.py:587: FutureWarning: Series.base is deprecated and will be removed in a future version\n",
      "  if getattr(data, 'base', None) is not None and \\\n"
     ]
    },
    {
     "name": "stdout",
     "output_type": "stream",
     "text": [
      "[CV]  learning_rate=0.08, max_depth=8, n_estimators=200, score=0.7067447594817999, total=   1.0s\n",
      "[CV] learning_rate=0.08, max_depth=8, n_estimators=200 ...............\n"
     ]
    },
    {
     "name": "stderr",
     "output_type": "stream",
     "text": [
      "/home/kodolamacz/anaconda3/lib/python3.7/site-packages/xgboost/core.py:587: FutureWarning: Series.base is deprecated and will be removed in a future version\n",
      "  if getattr(data, 'base', None) is not None and \\\n"
     ]
    },
    {
     "name": "stdout",
     "output_type": "stream",
     "text": [
      "[CV]  learning_rate=0.08, max_depth=8, n_estimators=200, score=0.8420470232729137, total=   0.6s\n",
      "[CV] learning_rate=0.08, max_depth=8, n_estimators=200 ...............\n"
     ]
    },
    {
     "name": "stderr",
     "output_type": "stream",
     "text": [
      "/home/kodolamacz/anaconda3/lib/python3.7/site-packages/xgboost/core.py:587: FutureWarning: Series.base is deprecated and will be removed in a future version\n",
      "  if getattr(data, 'base', None) is not None and \\\n"
     ]
    },
    {
     "name": "stdout",
     "output_type": "stream",
     "text": [
      "[CV]  learning_rate=0.08, max_depth=8, n_estimators=200, score=0.7419554919513043, total=   0.6s\n",
      "[CV] learning_rate=0.08, max_depth=9, n_estimators=100 ...............\n"
     ]
    },
    {
     "name": "stderr",
     "output_type": "stream",
     "text": [
      "/home/kodolamacz/anaconda3/lib/python3.7/site-packages/xgboost/core.py:587: FutureWarning: Series.base is deprecated and will be removed in a future version\n",
      "  if getattr(data, 'base', None) is not None and \\\n"
     ]
    },
    {
     "name": "stdout",
     "output_type": "stream",
     "text": [
      "[CV]  learning_rate=0.08, max_depth=9, n_estimators=100, score=0.7263770138190704, total=   0.3s\n",
      "[CV] learning_rate=0.08, max_depth=9, n_estimators=100 ...............\n"
     ]
    },
    {
     "name": "stderr",
     "output_type": "stream",
     "text": [
      "/home/kodolamacz/anaconda3/lib/python3.7/site-packages/xgboost/core.py:587: FutureWarning: Series.base is deprecated and will be removed in a future version\n",
      "  if getattr(data, 'base', None) is not None and \\\n"
     ]
    },
    {
     "name": "stdout",
     "output_type": "stream",
     "text": [
      "[CV]  learning_rate=0.08, max_depth=9, n_estimators=100, score=0.8362261236132922, total=   0.4s\n",
      "[CV] learning_rate=0.08, max_depth=9, n_estimators=100 ...............\n"
     ]
    },
    {
     "name": "stderr",
     "output_type": "stream",
     "text": [
      "/home/kodolamacz/anaconda3/lib/python3.7/site-packages/xgboost/core.py:587: FutureWarning: Series.base is deprecated and will be removed in a future version\n",
      "  if getattr(data, 'base', None) is not None and \\\n"
     ]
    },
    {
     "name": "stdout",
     "output_type": "stream",
     "text": [
      "[CV]  learning_rate=0.08, max_depth=9, n_estimators=100, score=0.757920055460554, total=   0.4s\n",
      "[CV] learning_rate=0.08, max_depth=9, n_estimators=200 ...............\n"
     ]
    },
    {
     "name": "stderr",
     "output_type": "stream",
     "text": [
      "/home/kodolamacz/anaconda3/lib/python3.7/site-packages/xgboost/core.py:587: FutureWarning: Series.base is deprecated and will be removed in a future version\n",
      "  if getattr(data, 'base', None) is not None and \\\n"
     ]
    },
    {
     "name": "stdout",
     "output_type": "stream",
     "text": [
      "[CV]  learning_rate=0.08, max_depth=9, n_estimators=200, score=0.7250960656337682, total=   1.0s\n",
      "[CV] learning_rate=0.08, max_depth=9, n_estimators=200 ...............\n"
     ]
    },
    {
     "name": "stderr",
     "output_type": "stream",
     "text": [
      "/home/kodolamacz/anaconda3/lib/python3.7/site-packages/xgboost/core.py:587: FutureWarning: Series.base is deprecated and will be removed in a future version\n",
      "  if getattr(data, 'base', None) is not None and \\\n"
     ]
    },
    {
     "name": "stdout",
     "output_type": "stream",
     "text": [
      "[CV]  learning_rate=0.08, max_depth=9, n_estimators=200, score=0.8362238267347479, total=   0.9s\n",
      "[CV] learning_rate=0.08, max_depth=9, n_estimators=200 ...............\n"
     ]
    },
    {
     "name": "stderr",
     "output_type": "stream",
     "text": [
      "/home/kodolamacz/anaconda3/lib/python3.7/site-packages/xgboost/core.py:587: FutureWarning: Series.base is deprecated and will be removed in a future version\n",
      "  if getattr(data, 'base', None) is not None and \\\n"
     ]
    },
    {
     "name": "stdout",
     "output_type": "stream",
     "text": [
      "[CV]  learning_rate=0.08, max_depth=9, n_estimators=200, score=0.7566761894340148, total=   0.7s\n",
      "[CV] learning_rate=0.08, max_depth=10, n_estimators=100 ..............\n"
     ]
    },
    {
     "name": "stderr",
     "output_type": "stream",
     "text": [
      "/home/kodolamacz/anaconda3/lib/python3.7/site-packages/xgboost/core.py:587: FutureWarning: Series.base is deprecated and will be removed in a future version\n",
      "  if getattr(data, 'base', None) is not None and \\\n"
     ]
    },
    {
     "name": "stdout",
     "output_type": "stream",
     "text": [
      "[CV]  learning_rate=0.08, max_depth=10, n_estimators=100, score=0.7197927837671041, total=   0.4s\n",
      "[CV] learning_rate=0.08, max_depth=10, n_estimators=100 ..............\n"
     ]
    },
    {
     "name": "stderr",
     "output_type": "stream",
     "text": [
      "/home/kodolamacz/anaconda3/lib/python3.7/site-packages/xgboost/core.py:587: FutureWarning: Series.base is deprecated and will be removed in a future version\n",
      "  if getattr(data, 'base', None) is not None and \\\n"
     ]
    },
    {
     "name": "stdout",
     "output_type": "stream",
     "text": [
      "[CV]  learning_rate=0.08, max_depth=10, n_estimators=100, score=0.8354266857533347, total=   0.4s\n",
      "[CV] learning_rate=0.08, max_depth=10, n_estimators=100 ..............\n"
     ]
    },
    {
     "name": "stderr",
     "output_type": "stream",
     "text": [
      "/home/kodolamacz/anaconda3/lib/python3.7/site-packages/xgboost/core.py:587: FutureWarning: Series.base is deprecated and will be removed in a future version\n",
      "  if getattr(data, 'base', None) is not None and \\\n"
     ]
    },
    {
     "name": "stdout",
     "output_type": "stream",
     "text": [
      "[CV]  learning_rate=0.08, max_depth=10, n_estimators=100, score=0.7386848215719868, total=   0.4s\n",
      "[CV] learning_rate=0.08, max_depth=10, n_estimators=200 ..............\n"
     ]
    },
    {
     "name": "stderr",
     "output_type": "stream",
     "text": [
      "/home/kodolamacz/anaconda3/lib/python3.7/site-packages/xgboost/core.py:587: FutureWarning: Series.base is deprecated and will be removed in a future version\n",
      "  if getattr(data, 'base', None) is not None and \\\n"
     ]
    },
    {
     "name": "stdout",
     "output_type": "stream",
     "text": [
      "[CV]  learning_rate=0.08, max_depth=10, n_estimators=200, score=0.7186040621768425, total=   0.9s\n",
      "[CV] learning_rate=0.08, max_depth=10, n_estimators=200 ..............\n"
     ]
    },
    {
     "name": "stderr",
     "output_type": "stream",
     "text": [
      "/home/kodolamacz/anaconda3/lib/python3.7/site-packages/xgboost/core.py:587: FutureWarning: Series.base is deprecated and will be removed in a future version\n",
      "  if getattr(data, 'base', None) is not None and \\\n"
     ]
    },
    {
     "name": "stdout",
     "output_type": "stream",
     "text": [
      "[CV]  learning_rate=0.08, max_depth=10, n_estimators=200, score=0.8359899749802939, total=   0.9s\n",
      "[CV] learning_rate=0.08, max_depth=10, n_estimators=200 ..............\n"
     ]
    },
    {
     "name": "stderr",
     "output_type": "stream",
     "text": [
      "/home/kodolamacz/anaconda3/lib/python3.7/site-packages/xgboost/core.py:587: FutureWarning: Series.base is deprecated and will be removed in a future version\n",
      "  if getattr(data, 'base', None) is not None and \\\n"
     ]
    },
    {
     "name": "stdout",
     "output_type": "stream",
     "text": [
      "[CV]  learning_rate=0.08, max_depth=10, n_estimators=200, score=0.7393673512250513, total=   1.0s\n",
      "[CV] learning_rate=0.09, max_depth=5, n_estimators=100 ...............\n",
      "[CV]  learning_rate=0.09, max_depth=5, n_estimators=100, score=0.7450889885339058, total=   0.2s\n",
      "[CV] learning_rate=0.09, max_depth=5, n_estimators=100 ...............\n"
     ]
    },
    {
     "name": "stderr",
     "output_type": "stream",
     "text": [
      "/home/kodolamacz/anaconda3/lib/python3.7/site-packages/xgboost/core.py:587: FutureWarning: Series.base is deprecated and will be removed in a future version\n",
      "  if getattr(data, 'base', None) is not None and \\\n",
      "/home/kodolamacz/anaconda3/lib/python3.7/site-packages/xgboost/core.py:587: FutureWarning: Series.base is deprecated and will be removed in a future version\n",
      "  if getattr(data, 'base', None) is not None and \\\n"
     ]
    },
    {
     "name": "stdout",
     "output_type": "stream",
     "text": [
      "[CV]  learning_rate=0.09, max_depth=5, n_estimators=100, score=0.8296714606913288, total=   0.3s\n",
      "[CV] learning_rate=0.09, max_depth=5, n_estimators=100 ...............\n"
     ]
    },
    {
     "name": "stderr",
     "output_type": "stream",
     "text": [
      "/home/kodolamacz/anaconda3/lib/python3.7/site-packages/xgboost/core.py:587: FutureWarning: Series.base is deprecated and will be removed in a future version\n",
      "  if getattr(data, 'base', None) is not None and \\\n"
     ]
    },
    {
     "name": "stdout",
     "output_type": "stream",
     "text": [
      "[CV]  learning_rate=0.09, max_depth=5, n_estimators=100, score=0.7439408198722304, total=   0.2s\n",
      "[CV] learning_rate=0.09, max_depth=5, n_estimators=200 ...............\n"
     ]
    },
    {
     "name": "stderr",
     "output_type": "stream",
     "text": [
      "/home/kodolamacz/anaconda3/lib/python3.7/site-packages/xgboost/core.py:587: FutureWarning: Series.base is deprecated and will be removed in a future version\n",
      "  if getattr(data, 'base', None) is not None and \\\n"
     ]
    },
    {
     "name": "stdout",
     "output_type": "stream",
     "text": [
      "[CV]  learning_rate=0.09, max_depth=5, n_estimators=200, score=0.7464889848923623, total=   0.4s\n",
      "[CV] learning_rate=0.09, max_depth=5, n_estimators=200 ...............\n"
     ]
    },
    {
     "name": "stderr",
     "output_type": "stream",
     "text": [
      "/home/kodolamacz/anaconda3/lib/python3.7/site-packages/xgboost/core.py:587: FutureWarning: Series.base is deprecated and will be removed in a future version\n",
      "  if getattr(data, 'base', None) is not None and \\\n"
     ]
    },
    {
     "name": "stdout",
     "output_type": "stream",
     "text": [
      "[CV]  learning_rate=0.09, max_depth=5, n_estimators=200, score=0.8377214058737852, total=   0.4s\n",
      "[CV] learning_rate=0.09, max_depth=5, n_estimators=200 ...............\n"
     ]
    },
    {
     "name": "stderr",
     "output_type": "stream",
     "text": [
      "/home/kodolamacz/anaconda3/lib/python3.7/site-packages/xgboost/core.py:587: FutureWarning: Series.base is deprecated and will be removed in a future version\n",
      "  if getattr(data, 'base', None) is not None and \\\n"
     ]
    },
    {
     "name": "stdout",
     "output_type": "stream",
     "text": [
      "[CV]  learning_rate=0.09, max_depth=5, n_estimators=200, score=0.7463857168698904, total=   0.4s\n",
      "[CV] learning_rate=0.09, max_depth=6, n_estimators=100 ...............\n"
     ]
    },
    {
     "name": "stderr",
     "output_type": "stream",
     "text": [
      "/home/kodolamacz/anaconda3/lib/python3.7/site-packages/xgboost/core.py:587: FutureWarning: Series.base is deprecated and will be removed in a future version\n",
      "  if getattr(data, 'base', None) is not None and \\\n"
     ]
    },
    {
     "name": "stdout",
     "output_type": "stream",
     "text": [
      "[CV]  learning_rate=0.09, max_depth=6, n_estimators=100, score=0.7384635565457067, total=   0.2s\n",
      "[CV] learning_rate=0.09, max_depth=6, n_estimators=100 ...............\n"
     ]
    },
    {
     "name": "stderr",
     "output_type": "stream",
     "text": [
      "/home/kodolamacz/anaconda3/lib/python3.7/site-packages/xgboost/core.py:587: FutureWarning: Series.base is deprecated and will be removed in a future version\n",
      "  if getattr(data, 'base', None) is not None and \\\n"
     ]
    },
    {
     "name": "stdout",
     "output_type": "stream",
     "text": [
      "[CV]  learning_rate=0.09, max_depth=6, n_estimators=100, score=0.8423415804884267, total=   0.2s\n",
      "[CV] learning_rate=0.09, max_depth=6, n_estimators=100 ...............\n"
     ]
    },
    {
     "name": "stderr",
     "output_type": "stream",
     "text": [
      "/home/kodolamacz/anaconda3/lib/python3.7/site-packages/xgboost/core.py:587: FutureWarning: Series.base is deprecated and will be removed in a future version\n",
      "  if getattr(data, 'base', None) is not None and \\\n"
     ]
    },
    {
     "name": "stdout",
     "output_type": "stream",
     "text": [
      "[CV]  learning_rate=0.09, max_depth=6, n_estimators=100, score=0.7432435330763061, total=   0.3s\n",
      "[CV] learning_rate=0.09, max_depth=6, n_estimators=200 ...............\n"
     ]
    },
    {
     "name": "stderr",
     "output_type": "stream",
     "text": [
      "/home/kodolamacz/anaconda3/lib/python3.7/site-packages/xgboost/core.py:587: FutureWarning: Series.base is deprecated and will be removed in a future version\n",
      "  if getattr(data, 'base', None) is not None and \\\n"
     ]
    },
    {
     "name": "stdout",
     "output_type": "stream",
     "text": [
      "[CV]  learning_rate=0.09, max_depth=6, n_estimators=200, score=0.7400025264573664, total=   0.5s\n",
      "[CV] learning_rate=0.09, max_depth=6, n_estimators=200 ...............\n"
     ]
    },
    {
     "name": "stderr",
     "output_type": "stream",
     "text": [
      "/home/kodolamacz/anaconda3/lib/python3.7/site-packages/xgboost/core.py:587: FutureWarning: Series.base is deprecated and will be removed in a future version\n",
      "  if getattr(data, 'base', None) is not None and \\\n"
     ]
    },
    {
     "name": "stdout",
     "output_type": "stream",
     "text": [
      "[CV]  learning_rate=0.09, max_depth=6, n_estimators=200, score=0.8469098009220934, total=   0.4s\n",
      "[CV] learning_rate=0.09, max_depth=6, n_estimators=200 ...............\n"
     ]
    },
    {
     "name": "stderr",
     "output_type": "stream",
     "text": [
      "/home/kodolamacz/anaconda3/lib/python3.7/site-packages/xgboost/core.py:587: FutureWarning: Series.base is deprecated and will be removed in a future version\n",
      "  if getattr(data, 'base', None) is not None and \\\n"
     ]
    },
    {
     "name": "stdout",
     "output_type": "stream",
     "text": [
      "[CV]  learning_rate=0.09, max_depth=6, n_estimators=200, score=0.7468403329592415, total=   0.4s\n",
      "[CV] learning_rate=0.09, max_depth=7, n_estimators=100 ...............\n"
     ]
    },
    {
     "name": "stderr",
     "output_type": "stream",
     "text": [
      "/home/kodolamacz/anaconda3/lib/python3.7/site-packages/xgboost/core.py:587: FutureWarning: Series.base is deprecated and will be removed in a future version\n",
      "  if getattr(data, 'base', None) is not None and \\\n"
     ]
    },
    {
     "name": "stdout",
     "output_type": "stream",
     "text": [
      "[CV]  learning_rate=0.09, max_depth=7, n_estimators=100, score=0.72895054314333, total=   0.3s\n",
      "[CV] learning_rate=0.09, max_depth=7, n_estimators=100 ...............\n"
     ]
    },
    {
     "name": "stderr",
     "output_type": "stream",
     "text": [
      "/home/kodolamacz/anaconda3/lib/python3.7/site-packages/xgboost/core.py:587: FutureWarning: Series.base is deprecated and will be removed in a future version\n",
      "  if getattr(data, 'base', None) is not None and \\\n"
     ]
    },
    {
     "name": "stdout",
     "output_type": "stream",
     "text": [
      "[CV]  learning_rate=0.09, max_depth=7, n_estimators=100, score=0.8405480819240985, total=   0.3s\n",
      "[CV] learning_rate=0.09, max_depth=7, n_estimators=100 ...............\n"
     ]
    },
    {
     "name": "stderr",
     "output_type": "stream",
     "text": [
      "/home/kodolamacz/anaconda3/lib/python3.7/site-packages/xgboost/core.py:587: FutureWarning: Series.base is deprecated and will be removed in a future version\n",
      "  if getattr(data, 'base', None) is not None and \\\n"
     ]
    },
    {
     "name": "stdout",
     "output_type": "stream",
     "text": [
      "[CV]  learning_rate=0.09, max_depth=7, n_estimators=100, score=0.7389252965853379, total=   0.2s\n",
      "[CV] learning_rate=0.09, max_depth=7, n_estimators=200 ...............\n"
     ]
    },
    {
     "name": "stderr",
     "output_type": "stream",
     "text": [
      "/home/kodolamacz/anaconda3/lib/python3.7/site-packages/xgboost/core.py:587: FutureWarning: Series.base is deprecated and will be removed in a future version\n",
      "  if getattr(data, 'base', None) is not None and \\\n"
     ]
    },
    {
     "name": "stdout",
     "output_type": "stream",
     "text": [
      "[CV]  learning_rate=0.09, max_depth=7, n_estimators=200, score=0.7260416152446625, total=   0.6s\n",
      "[CV] learning_rate=0.09, max_depth=7, n_estimators=200 ...............\n"
     ]
    },
    {
     "name": "stderr",
     "output_type": "stream",
     "text": [
      "/home/kodolamacz/anaconda3/lib/python3.7/site-packages/xgboost/core.py:587: FutureWarning: Series.base is deprecated and will be removed in a future version\n",
      "  if getattr(data, 'base', None) is not None and \\\n"
     ]
    },
    {
     "name": "stdout",
     "output_type": "stream",
     "text": [
      "[CV]  learning_rate=0.09, max_depth=7, n_estimators=200, score=0.8409086600279465, total=   0.7s\n",
      "[CV] learning_rate=0.09, max_depth=7, n_estimators=200 ...............\n"
     ]
    },
    {
     "name": "stderr",
     "output_type": "stream",
     "text": [
      "/home/kodolamacz/anaconda3/lib/python3.7/site-packages/xgboost/core.py:587: FutureWarning: Series.base is deprecated and will be removed in a future version\n",
      "  if getattr(data, 'base', None) is not None and \\\n"
     ]
    },
    {
     "name": "stdout",
     "output_type": "stream",
     "text": [
      "[CV]  learning_rate=0.09, max_depth=7, n_estimators=200, score=0.7378677857959705, total=   0.7s\n",
      "[CV] learning_rate=0.09, max_depth=8, n_estimators=100 ...............\n"
     ]
    },
    {
     "name": "stderr",
     "output_type": "stream",
     "text": [
      "/home/kodolamacz/anaconda3/lib/python3.7/site-packages/xgboost/core.py:587: FutureWarning: Series.base is deprecated and will be removed in a future version\n",
      "  if getattr(data, 'base', None) is not None and \\\n"
     ]
    },
    {
     "name": "stdout",
     "output_type": "stream",
     "text": [
      "[CV]  learning_rate=0.09, max_depth=8, n_estimators=100, score=0.7231723006363941, total=   0.5s\n",
      "[CV] learning_rate=0.09, max_depth=8, n_estimators=100 ...............\n"
     ]
    },
    {
     "name": "stderr",
     "output_type": "stream",
     "text": [
      "/home/kodolamacz/anaconda3/lib/python3.7/site-packages/xgboost/core.py:587: FutureWarning: Series.base is deprecated and will be removed in a future version\n",
      "  if getattr(data, 'base', None) is not None and \\\n"
     ]
    },
    {
     "name": "stdout",
     "output_type": "stream",
     "text": [
      "[CV]  learning_rate=0.09, max_depth=8, n_estimators=100, score=0.8499908548295965, total=   0.3s\n",
      "[CV] learning_rate=0.09, max_depth=8, n_estimators=100 ...............\n"
     ]
    },
    {
     "name": "stderr",
     "output_type": "stream",
     "text": [
      "/home/kodolamacz/anaconda3/lib/python3.7/site-packages/xgboost/core.py:587: FutureWarning: Series.base is deprecated and will be removed in a future version\n",
      "  if getattr(data, 'base', None) is not None and \\\n"
     ]
    },
    {
     "name": "stdout",
     "output_type": "stream",
     "text": [
      "[CV]  learning_rate=0.09, max_depth=8, n_estimators=100, score=0.7423234010700692, total=   0.4s\n",
      "[CV] learning_rate=0.09, max_depth=8, n_estimators=200 ...............\n"
     ]
    },
    {
     "name": "stderr",
     "output_type": "stream",
     "text": [
      "/home/kodolamacz/anaconda3/lib/python3.7/site-packages/xgboost/core.py:587: FutureWarning: Series.base is deprecated and will be removed in a future version\n",
      "  if getattr(data, 'base', None) is not None and \\\n"
     ]
    },
    {
     "name": "stdout",
     "output_type": "stream",
     "text": [
      "[CV]  learning_rate=0.09, max_depth=8, n_estimators=200, score=0.7220363345474514, total=   0.7s\n",
      "[CV] learning_rate=0.09, max_depth=8, n_estimators=200 ...............\n"
     ]
    },
    {
     "name": "stderr",
     "output_type": "stream",
     "text": [
      "/home/kodolamacz/anaconda3/lib/python3.7/site-packages/xgboost/core.py:587: FutureWarning: Series.base is deprecated and will be removed in a future version\n",
      "  if getattr(data, 'base', None) is not None and \\\n"
     ]
    },
    {
     "name": "stdout",
     "output_type": "stream",
     "text": [
      "[CV]  learning_rate=0.09, max_depth=8, n_estimators=200, score=0.8497171167609742, total=   1.0s\n",
      "[CV] learning_rate=0.09, max_depth=8, n_estimators=200 ...............\n"
     ]
    },
    {
     "name": "stderr",
     "output_type": "stream",
     "text": [
      "/home/kodolamacz/anaconda3/lib/python3.7/site-packages/xgboost/core.py:587: FutureWarning: Series.base is deprecated and will be removed in a future version\n",
      "  if getattr(data, 'base', None) is not None and \\\n"
     ]
    },
    {
     "name": "stdout",
     "output_type": "stream",
     "text": [
      "[CV]  learning_rate=0.09, max_depth=8, n_estimators=200, score=0.7421754571184718, total=   0.6s\n",
      "[CV] learning_rate=0.09, max_depth=9, n_estimators=100 ...............\n"
     ]
    },
    {
     "name": "stderr",
     "output_type": "stream",
     "text": [
      "/home/kodolamacz/anaconda3/lib/python3.7/site-packages/xgboost/core.py:587: FutureWarning: Series.base is deprecated and will be removed in a future version\n",
      "  if getattr(data, 'base', None) is not None and \\\n"
     ]
    },
    {
     "name": "stdout",
     "output_type": "stream",
     "text": [
      "[CV]  learning_rate=0.09, max_depth=9, n_estimators=100, score=0.7293783049732288, total=   0.5s\n",
      "[CV] learning_rate=0.09, max_depth=9, n_estimators=100 ...............\n"
     ]
    },
    {
     "name": "stderr",
     "output_type": "stream",
     "text": [
      "/home/kodolamacz/anaconda3/lib/python3.7/site-packages/xgboost/core.py:587: FutureWarning: Series.base is deprecated and will be removed in a future version\n",
      "  if getattr(data, 'base', None) is not None and \\\n"
     ]
    },
    {
     "name": "stdout",
     "output_type": "stream",
     "text": [
      "[CV]  learning_rate=0.09, max_depth=9, n_estimators=100, score=0.8300713641223998, total=   0.6s\n",
      "[CV] learning_rate=0.09, max_depth=9, n_estimators=100 ...............\n"
     ]
    },
    {
     "name": "stderr",
     "output_type": "stream",
     "text": [
      "/home/kodolamacz/anaconda3/lib/python3.7/site-packages/xgboost/core.py:587: FutureWarning: Series.base is deprecated and will be removed in a future version\n",
      "  if getattr(data, 'base', None) is not None and \\\n"
     ]
    },
    {
     "name": "stdout",
     "output_type": "stream",
     "text": [
      "[CV]  learning_rate=0.09, max_depth=9, n_estimators=100, score=0.737087515880932, total=   0.5s\n",
      "[CV] learning_rate=0.09, max_depth=9, n_estimators=200 ...............\n"
     ]
    },
    {
     "name": "stderr",
     "output_type": "stream",
     "text": [
      "/home/kodolamacz/anaconda3/lib/python3.7/site-packages/xgboost/core.py:587: FutureWarning: Series.base is deprecated and will be removed in a future version\n",
      "  if getattr(data, 'base', None) is not None and \\\n"
     ]
    },
    {
     "name": "stdout",
     "output_type": "stream",
     "text": [
      "[CV]  learning_rate=0.09, max_depth=9, n_estimators=200, score=0.728684616684472, total=   1.2s\n",
      "[CV] learning_rate=0.09, max_depth=9, n_estimators=200 ...............\n"
     ]
    },
    {
     "name": "stderr",
     "output_type": "stream",
     "text": [
      "/home/kodolamacz/anaconda3/lib/python3.7/site-packages/xgboost/core.py:587: FutureWarning: Series.base is deprecated and will be removed in a future version\n",
      "  if getattr(data, 'base', None) is not None and \\\n"
     ]
    },
    {
     "name": "stdout",
     "output_type": "stream",
     "text": [
      "[CV]  learning_rate=0.09, max_depth=9, n_estimators=200, score=0.8287808330025218, total=   1.5s\n",
      "[CV] learning_rate=0.09, max_depth=9, n_estimators=200 ...............\n"
     ]
    },
    {
     "name": "stderr",
     "output_type": "stream",
     "text": [
      "/home/kodolamacz/anaconda3/lib/python3.7/site-packages/xgboost/core.py:587: FutureWarning: Series.base is deprecated and will be removed in a future version\n",
      "  if getattr(data, 'base', None) is not None and \\\n"
     ]
    },
    {
     "name": "stdout",
     "output_type": "stream",
     "text": [
      "[CV]  learning_rate=0.09, max_depth=9, n_estimators=200, score=0.7349491084180475, total=   1.0s\n",
      "[CV] learning_rate=0.09, max_depth=10, n_estimators=100 ..............\n"
     ]
    },
    {
     "name": "stderr",
     "output_type": "stream",
     "text": [
      "/home/kodolamacz/anaconda3/lib/python3.7/site-packages/xgboost/core.py:587: FutureWarning: Series.base is deprecated and will be removed in a future version\n",
      "  if getattr(data, 'base', None) is not None and \\\n"
     ]
    },
    {
     "name": "stdout",
     "output_type": "stream",
     "text": [
      "[CV]  learning_rate=0.09, max_depth=10, n_estimators=100, score=0.720992068811271, total=   0.4s\n",
      "[CV] learning_rate=0.09, max_depth=10, n_estimators=100 ..............\n"
     ]
    },
    {
     "name": "stderr",
     "output_type": "stream",
     "text": [
      "/home/kodolamacz/anaconda3/lib/python3.7/site-packages/xgboost/core.py:587: FutureWarning: Series.base is deprecated and will be removed in a future version\n",
      "  if getattr(data, 'base', None) is not None and \\\n"
     ]
    },
    {
     "name": "stdout",
     "output_type": "stream",
     "text": [
      "[CV]  learning_rate=0.09, max_depth=10, n_estimators=100, score=0.8294931540758692, total=   0.4s\n",
      "[CV] learning_rate=0.09, max_depth=10, n_estimators=100 ..............\n"
     ]
    },
    {
     "name": "stderr",
     "output_type": "stream",
     "text": [
      "/home/kodolamacz/anaconda3/lib/python3.7/site-packages/xgboost/core.py:587: FutureWarning: Series.base is deprecated and will be removed in a future version\n",
      "  if getattr(data, 'base', None) is not None and \\\n"
     ]
    },
    {
     "name": "stdout",
     "output_type": "stream",
     "text": [
      "[CV]  learning_rate=0.09, max_depth=10, n_estimators=100, score=0.7417677183745904, total=   1.0s\n",
      "[CV] learning_rate=0.09, max_depth=10, n_estimators=200 ..............\n"
     ]
    },
    {
     "name": "stderr",
     "output_type": "stream",
     "text": [
      "/home/kodolamacz/anaconda3/lib/python3.7/site-packages/xgboost/core.py:587: FutureWarning: Series.base is deprecated and will be removed in a future version\n",
      "  if getattr(data, 'base', None) is not None and \\\n"
     ]
    },
    {
     "name": "stdout",
     "output_type": "stream",
     "text": [
      "[CV]  learning_rate=0.09, max_depth=10, n_estimators=200, score=0.7206362868216962, total=   1.2s\n",
      "[CV] learning_rate=0.09, max_depth=10, n_estimators=200 ..............\n"
     ]
    },
    {
     "name": "stderr",
     "output_type": "stream",
     "text": [
      "/home/kodolamacz/anaconda3/lib/python3.7/site-packages/xgboost/core.py:587: FutureWarning: Series.base is deprecated and will be removed in a future version\n",
      "  if getattr(data, 'base', None) is not None and \\\n"
     ]
    },
    {
     "name": "stdout",
     "output_type": "stream",
     "text": [
      "[CV]  learning_rate=0.09, max_depth=10, n_estimators=200, score=0.8290270676341018, total=   0.9s\n",
      "[CV] learning_rate=0.09, max_depth=10, n_estimators=200 ..............\n"
     ]
    },
    {
     "name": "stderr",
     "output_type": "stream",
     "text": [
      "/home/kodolamacz/anaconda3/lib/python3.7/site-packages/xgboost/core.py:587: FutureWarning: Series.base is deprecated and will be removed in a future version\n",
      "  if getattr(data, 'base', None) is not None and \\\n"
     ]
    },
    {
     "name": "stdout",
     "output_type": "stream",
     "text": [
      "[CV]  learning_rate=0.09, max_depth=10, n_estimators=200, score=0.7412645837818017, total=   0.9s\n",
      "[CV] learning_rate=0.1, max_depth=5, n_estimators=100 ................\n"
     ]
    },
    {
     "name": "stderr",
     "output_type": "stream",
     "text": [
      "/home/kodolamacz/anaconda3/lib/python3.7/site-packages/xgboost/core.py:587: FutureWarning: Series.base is deprecated and will be removed in a future version\n",
      "  if getattr(data, 'base', None) is not None and \\\n"
     ]
    },
    {
     "name": "stdout",
     "output_type": "stream",
     "text": [
      "[CV]  learning_rate=0.1, max_depth=5, n_estimators=100, score=0.74062404259993, total=   0.2s\n",
      "[CV] learning_rate=0.1, max_depth=5, n_estimators=100 ................\n"
     ]
    },
    {
     "name": "stderr",
     "output_type": "stream",
     "text": [
      "/home/kodolamacz/anaconda3/lib/python3.7/site-packages/xgboost/core.py:587: FutureWarning: Series.base is deprecated and will be removed in a future version\n",
      "  if getattr(data, 'base', None) is not None and \\\n"
     ]
    },
    {
     "name": "stdout",
     "output_type": "stream",
     "text": [
      "[CV]  learning_rate=0.1, max_depth=5, n_estimators=100, score=0.8385411088419533, total=   0.4s\n",
      "[CV] learning_rate=0.1, max_depth=5, n_estimators=100 ................\n"
     ]
    },
    {
     "name": "stderr",
     "output_type": "stream",
     "text": [
      "/home/kodolamacz/anaconda3/lib/python3.7/site-packages/xgboost/core.py:587: FutureWarning: Series.base is deprecated and will be removed in a future version\n",
      "  if getattr(data, 'base', None) is not None and \\\n"
     ]
    },
    {
     "name": "stdout",
     "output_type": "stream",
     "text": [
      "[CV]  learning_rate=0.1, max_depth=5, n_estimators=100, score=0.7501597252538493, total=   0.2s\n",
      "[CV] learning_rate=0.1, max_depth=5, n_estimators=200 ................\n"
     ]
    },
    {
     "name": "stderr",
     "output_type": "stream",
     "text": [
      "/home/kodolamacz/anaconda3/lib/python3.7/site-packages/xgboost/core.py:587: FutureWarning: Series.base is deprecated and will be removed in a future version\n",
      "  if getattr(data, 'base', None) is not None and \\\n"
     ]
    },
    {
     "name": "stdout",
     "output_type": "stream",
     "text": [
      "[CV]  learning_rate=0.1, max_depth=5, n_estimators=200, score=0.7440378703896378, total=   0.7s\n",
      "[CV] learning_rate=0.1, max_depth=5, n_estimators=200 ................\n"
     ]
    },
    {
     "name": "stderr",
     "output_type": "stream",
     "text": [
      "/home/kodolamacz/anaconda3/lib/python3.7/site-packages/xgboost/core.py:587: FutureWarning: Series.base is deprecated and will be removed in a future version\n",
      "  if getattr(data, 'base', None) is not None and \\\n"
     ]
    },
    {
     "name": "stdout",
     "output_type": "stream",
     "text": [
      "[CV]  learning_rate=0.1, max_depth=5, n_estimators=200, score=0.8471754777744192, total=   0.9s\n",
      "[CV] learning_rate=0.1, max_depth=5, n_estimators=200 ................\n"
     ]
    },
    {
     "name": "stderr",
     "output_type": "stream",
     "text": [
      "/home/kodolamacz/anaconda3/lib/python3.7/site-packages/xgboost/core.py:587: FutureWarning: Series.base is deprecated and will be removed in a future version\n",
      "  if getattr(data, 'base', None) is not None and \\\n"
     ]
    },
    {
     "name": "stdout",
     "output_type": "stream",
     "text": [
      "[CV]  learning_rate=0.1, max_depth=5, n_estimators=200, score=0.7516686524752547, total=   0.7s\n",
      "[CV] learning_rate=0.1, max_depth=6, n_estimators=100 ................\n"
     ]
    },
    {
     "name": "stderr",
     "output_type": "stream",
     "text": [
      "/home/kodolamacz/anaconda3/lib/python3.7/site-packages/xgboost/core.py:587: FutureWarning: Series.base is deprecated and will be removed in a future version\n",
      "  if getattr(data, 'base', None) is not None and \\\n"
     ]
    },
    {
     "name": "stdout",
     "output_type": "stream",
     "text": [
      "[CV]  learning_rate=0.1, max_depth=6, n_estimators=100, score=0.7301000544978762, total=   0.4s\n",
      "[CV] learning_rate=0.1, max_depth=6, n_estimators=100 ................\n"
     ]
    },
    {
     "name": "stderr",
     "output_type": "stream",
     "text": [
      "/home/kodolamacz/anaconda3/lib/python3.7/site-packages/xgboost/core.py:587: FutureWarning: Series.base is deprecated and will be removed in a future version\n",
      "  if getattr(data, 'base', None) is not None and \\\n"
     ]
    },
    {
     "name": "stdout",
     "output_type": "stream",
     "text": [
      "[CV]  learning_rate=0.1, max_depth=6, n_estimators=100, score=0.8395440855592399, total=   0.4s\n",
      "[CV] learning_rate=0.1, max_depth=6, n_estimators=100 ................\n"
     ]
    },
    {
     "name": "stderr",
     "output_type": "stream",
     "text": [
      "/home/kodolamacz/anaconda3/lib/python3.7/site-packages/xgboost/core.py:587: FutureWarning: Series.base is deprecated and will be removed in a future version\n",
      "  if getattr(data, 'base', None) is not None and \\\n"
     ]
    },
    {
     "name": "stdout",
     "output_type": "stream",
     "text": [
      "[CV]  learning_rate=0.1, max_depth=6, n_estimators=100, score=0.7450674068591783, total=   0.5s\n",
      "[CV] learning_rate=0.1, max_depth=6, n_estimators=200 ................\n"
     ]
    },
    {
     "name": "stderr",
     "output_type": "stream",
     "text": [
      "/home/kodolamacz/anaconda3/lib/python3.7/site-packages/xgboost/core.py:587: FutureWarning: Series.base is deprecated and will be removed in a future version\n",
      "  if getattr(data, 'base', None) is not None and \\\n"
     ]
    },
    {
     "name": "stdout",
     "output_type": "stream",
     "text": [
      "[CV]  learning_rate=0.1, max_depth=6, n_estimators=200, score=0.731677957732436, total=   0.7s\n",
      "[CV] learning_rate=0.1, max_depth=6, n_estimators=200 ................\n"
     ]
    },
    {
     "name": "stderr",
     "output_type": "stream",
     "text": [
      "/home/kodolamacz/anaconda3/lib/python3.7/site-packages/xgboost/core.py:587: FutureWarning: Series.base is deprecated and will be removed in a future version\n",
      "  if getattr(data, 'base', None) is not None and \\\n"
     ]
    },
    {
     "name": "stdout",
     "output_type": "stream",
     "text": [
      "[CV]  learning_rate=0.1, max_depth=6, n_estimators=200, score=0.8450885629986098, total=   0.6s\n",
      "[CV] learning_rate=0.1, max_depth=6, n_estimators=200 ................\n"
     ]
    },
    {
     "name": "stderr",
     "output_type": "stream",
     "text": [
      "/home/kodolamacz/anaconda3/lib/python3.7/site-packages/xgboost/core.py:587: FutureWarning: Series.base is deprecated and will be removed in a future version\n",
      "  if getattr(data, 'base', None) is not None and \\\n"
     ]
    },
    {
     "name": "stdout",
     "output_type": "stream",
     "text": [
      "[CV]  learning_rate=0.1, max_depth=6, n_estimators=200, score=0.744712387246447, total=   0.6s\n",
      "[CV] learning_rate=0.1, max_depth=7, n_estimators=100 ................\n"
     ]
    },
    {
     "name": "stderr",
     "output_type": "stream",
     "text": [
      "/home/kodolamacz/anaconda3/lib/python3.7/site-packages/xgboost/core.py:587: FutureWarning: Series.base is deprecated and will be removed in a future version\n",
      "  if getattr(data, 'base', None) is not None and \\\n"
     ]
    },
    {
     "name": "stdout",
     "output_type": "stream",
     "text": [
      "[CV]  learning_rate=0.1, max_depth=7, n_estimators=100, score=0.7341250012635873, total=   0.3s\n",
      "[CV] learning_rate=0.1, max_depth=7, n_estimators=100 ................\n"
     ]
    },
    {
     "name": "stderr",
     "output_type": "stream",
     "text": [
      "/home/kodolamacz/anaconda3/lib/python3.7/site-packages/xgboost/core.py:587: FutureWarning: Series.base is deprecated and will be removed in a future version\n",
      "  if getattr(data, 'base', None) is not None and \\\n"
     ]
    },
    {
     "name": "stdout",
     "output_type": "stream",
     "text": [
      "[CV]  learning_rate=0.1, max_depth=7, n_estimators=100, score=0.8386580034975846, total=   0.4s\n",
      "[CV] learning_rate=0.1, max_depth=7, n_estimators=100 ................\n"
     ]
    },
    {
     "name": "stderr",
     "output_type": "stream",
     "text": [
      "/home/kodolamacz/anaconda3/lib/python3.7/site-packages/xgboost/core.py:587: FutureWarning: Series.base is deprecated and will be removed in a future version\n",
      "  if getattr(data, 'base', None) is not None and \\\n"
     ]
    },
    {
     "name": "stdout",
     "output_type": "stream",
     "text": [
      "[CV]  learning_rate=0.1, max_depth=7, n_estimators=100, score=0.7426925075045528, total=   0.4s\n",
      "[CV] learning_rate=0.1, max_depth=7, n_estimators=200 ................\n"
     ]
    },
    {
     "name": "stderr",
     "output_type": "stream",
     "text": [
      "/home/kodolamacz/anaconda3/lib/python3.7/site-packages/xgboost/core.py:587: FutureWarning: Series.base is deprecated and will be removed in a future version\n",
      "  if getattr(data, 'base', None) is not None and \\\n"
     ]
    },
    {
     "name": "stdout",
     "output_type": "stream",
     "text": [
      "[CV]  learning_rate=0.1, max_depth=7, n_estimators=200, score=0.7328132246421015, total=   0.6s\n",
      "[CV] learning_rate=0.1, max_depth=7, n_estimators=200 ................\n"
     ]
    },
    {
     "name": "stderr",
     "output_type": "stream",
     "text": [
      "/home/kodolamacz/anaconda3/lib/python3.7/site-packages/xgboost/core.py:587: FutureWarning: Series.base is deprecated and will be removed in a future version\n",
      "  if getattr(data, 'base', None) is not None and \\\n"
     ]
    },
    {
     "name": "stdout",
     "output_type": "stream",
     "text": [
      "[CV]  learning_rate=0.1, max_depth=7, n_estimators=200, score=0.8389127226942114, total=   0.6s\n",
      "[CV] learning_rate=0.1, max_depth=7, n_estimators=200 ................\n"
     ]
    },
    {
     "name": "stderr",
     "output_type": "stream",
     "text": [
      "/home/kodolamacz/anaconda3/lib/python3.7/site-packages/xgboost/core.py:587: FutureWarning: Series.base is deprecated and will be removed in a future version\n",
      "  if getattr(data, 'base', None) is not None and \\\n"
     ]
    },
    {
     "name": "stdout",
     "output_type": "stream",
     "text": [
      "[CV]  learning_rate=0.1, max_depth=7, n_estimators=200, score=0.7413343810388151, total=   0.7s\n",
      "[CV] learning_rate=0.1, max_depth=8, n_estimators=100 ................\n"
     ]
    },
    {
     "name": "stderr",
     "output_type": "stream",
     "text": [
      "/home/kodolamacz/anaconda3/lib/python3.7/site-packages/xgboost/core.py:587: FutureWarning: Series.base is deprecated and will be removed in a future version\n",
      "  if getattr(data, 'base', None) is not None and \\\n"
     ]
    },
    {
     "name": "stdout",
     "output_type": "stream",
     "text": [
      "[CV]  learning_rate=0.1, max_depth=8, n_estimators=100, score=0.7208931553153104, total=   0.4s\n",
      "[CV] learning_rate=0.1, max_depth=8, n_estimators=100 ................\n"
     ]
    },
    {
     "name": "stderr",
     "output_type": "stream",
     "text": [
      "/home/kodolamacz/anaconda3/lib/python3.7/site-packages/xgboost/core.py:587: FutureWarning: Series.base is deprecated and will be removed in a future version\n",
      "  if getattr(data, 'base', None) is not None and \\\n"
     ]
    },
    {
     "name": "stdout",
     "output_type": "stream",
     "text": [
      "[CV]  learning_rate=0.1, max_depth=8, n_estimators=100, score=0.8457292070292317, total=   0.4s\n",
      "[CV] learning_rate=0.1, max_depth=8, n_estimators=100 ................\n"
     ]
    },
    {
     "name": "stderr",
     "output_type": "stream",
     "text": [
      "/home/kodolamacz/anaconda3/lib/python3.7/site-packages/xgboost/core.py:587: FutureWarning: Series.base is deprecated and will be removed in a future version\n",
      "  if getattr(data, 'base', None) is not None and \\\n"
     ]
    },
    {
     "name": "stdout",
     "output_type": "stream",
     "text": [
      "[CV]  learning_rate=0.1, max_depth=8, n_estimators=100, score=0.7452848173930905, total=   0.4s\n",
      "[CV] learning_rate=0.1, max_depth=8, n_estimators=200 ................\n"
     ]
    },
    {
     "name": "stderr",
     "output_type": "stream",
     "text": [
      "/home/kodolamacz/anaconda3/lib/python3.7/site-packages/xgboost/core.py:587: FutureWarning: Series.base is deprecated and will be removed in a future version\n",
      "  if getattr(data, 'base', None) is not None and \\\n"
     ]
    },
    {
     "name": "stdout",
     "output_type": "stream",
     "text": [
      "[CV]  learning_rate=0.1, max_depth=8, n_estimators=200, score=0.7204801257733346, total=   0.7s\n",
      "[CV] learning_rate=0.1, max_depth=8, n_estimators=200 ................\n"
     ]
    },
    {
     "name": "stderr",
     "output_type": "stream",
     "text": [
      "/home/kodolamacz/anaconda3/lib/python3.7/site-packages/xgboost/core.py:587: FutureWarning: Series.base is deprecated and will be removed in a future version\n",
      "  if getattr(data, 'base', None) is not None and \\\n"
     ]
    },
    {
     "name": "stdout",
     "output_type": "stream",
     "text": [
      "[CV]  learning_rate=0.1, max_depth=8, n_estimators=200, score=0.8459812498754331, total=   0.7s\n",
      "[CV] learning_rate=0.1, max_depth=8, n_estimators=200 ................\n"
     ]
    },
    {
     "name": "stderr",
     "output_type": "stream",
     "text": [
      "/home/kodolamacz/anaconda3/lib/python3.7/site-packages/xgboost/core.py:587: FutureWarning: Series.base is deprecated and will be removed in a future version\n",
      "  if getattr(data, 'base', None) is not None and \\\n"
     ]
    },
    {
     "name": "stdout",
     "output_type": "stream",
     "text": [
      "[CV]  learning_rate=0.1, max_depth=8, n_estimators=200, score=0.7453080379338477, total=   0.8s\n",
      "[CV] learning_rate=0.1, max_depth=9, n_estimators=100 ................\n"
     ]
    },
    {
     "name": "stderr",
     "output_type": "stream",
     "text": [
      "/home/kodolamacz/anaconda3/lib/python3.7/site-packages/xgboost/core.py:587: FutureWarning: Series.base is deprecated and will be removed in a future version\n",
      "  if getattr(data, 'base', None) is not None and \\\n"
     ]
    },
    {
     "name": "stdout",
     "output_type": "stream",
     "text": [
      "[CV]  learning_rate=0.1, max_depth=9, n_estimators=100, score=0.7045901848783792, total=   0.4s\n",
      "[CV] learning_rate=0.1, max_depth=9, n_estimators=100 ................\n"
     ]
    },
    {
     "name": "stderr",
     "output_type": "stream",
     "text": [
      "/home/kodolamacz/anaconda3/lib/python3.7/site-packages/xgboost/core.py:587: FutureWarning: Series.base is deprecated and will be removed in a future version\n",
      "  if getattr(data, 'base', None) is not None and \\\n"
     ]
    },
    {
     "name": "stdout",
     "output_type": "stream",
     "text": [
      "[CV]  learning_rate=0.1, max_depth=9, n_estimators=100, score=0.8426690762343036, total=   0.5s\n",
      "[CV] learning_rate=0.1, max_depth=9, n_estimators=100 ................\n"
     ]
    },
    {
     "name": "stderr",
     "output_type": "stream",
     "text": [
      "/home/kodolamacz/anaconda3/lib/python3.7/site-packages/xgboost/core.py:587: FutureWarning: Series.base is deprecated and will be removed in a future version\n",
      "  if getattr(data, 'base', None) is not None and \\\n"
     ]
    },
    {
     "name": "stdout",
     "output_type": "stream",
     "text": [
      "[CV]  learning_rate=0.1, max_depth=9, n_estimators=100, score=0.7404363356884847, total=   0.5s\n",
      "[CV] learning_rate=0.1, max_depth=9, n_estimators=200 ................\n"
     ]
    },
    {
     "name": "stderr",
     "output_type": "stream",
     "text": [
      "/home/kodolamacz/anaconda3/lib/python3.7/site-packages/xgboost/core.py:587: FutureWarning: Series.base is deprecated and will be removed in a future version\n",
      "  if getattr(data, 'base', None) is not None and \\\n"
     ]
    },
    {
     "name": "stdout",
     "output_type": "stream",
     "text": [
      "[CV]  learning_rate=0.1, max_depth=9, n_estimators=200, score=0.7037228865067758, total=   0.7s\n",
      "[CV] learning_rate=0.1, max_depth=9, n_estimators=200 ................\n"
     ]
    },
    {
     "name": "stderr",
     "output_type": "stream",
     "text": [
      "/home/kodolamacz/anaconda3/lib/python3.7/site-packages/xgboost/core.py:587: FutureWarning: Series.base is deprecated and will be removed in a future version\n",
      "  if getattr(data, 'base', None) is not None and \\\n"
     ]
    },
    {
     "name": "stdout",
     "output_type": "stream",
     "text": [
      "[CV]  learning_rate=0.1, max_depth=9, n_estimators=200, score=0.8424736846144183, total=   0.8s\n",
      "[CV] learning_rate=0.1, max_depth=9, n_estimators=200 ................\n"
     ]
    },
    {
     "name": "stderr",
     "output_type": "stream",
     "text": [
      "/home/kodolamacz/anaconda3/lib/python3.7/site-packages/xgboost/core.py:587: FutureWarning: Series.base is deprecated and will be removed in a future version\n",
      "  if getattr(data, 'base', None) is not None and \\\n"
     ]
    },
    {
     "name": "stdout",
     "output_type": "stream",
     "text": [
      "[CV]  learning_rate=0.1, max_depth=9, n_estimators=200, score=0.7400595338666429, total=   0.8s\n",
      "[CV] learning_rate=0.1, max_depth=10, n_estimators=100 ...............\n"
     ]
    },
    {
     "name": "stderr",
     "output_type": "stream",
     "text": [
      "/home/kodolamacz/anaconda3/lib/python3.7/site-packages/xgboost/core.py:587: FutureWarning: Series.base is deprecated and will be removed in a future version\n",
      "  if getattr(data, 'base', None) is not None and \\\n"
     ]
    },
    {
     "name": "stdout",
     "output_type": "stream",
     "text": [
      "[CV]  learning_rate=0.1, max_depth=10, n_estimators=100, score=0.7153091799549649, total=   0.5s\n",
      "[CV] learning_rate=0.1, max_depth=10, n_estimators=100 ...............\n"
     ]
    },
    {
     "name": "stderr",
     "output_type": "stream",
     "text": [
      "/home/kodolamacz/anaconda3/lib/python3.7/site-packages/xgboost/core.py:587: FutureWarning: Series.base is deprecated and will be removed in a future version\n",
      "  if getattr(data, 'base', None) is not None and \\\n"
     ]
    },
    {
     "name": "stdout",
     "output_type": "stream",
     "text": [
      "[CV]  learning_rate=0.1, max_depth=10, n_estimators=100, score=0.8397173156306995, total=   0.5s\n",
      "[CV] learning_rate=0.1, max_depth=10, n_estimators=100 ...............\n"
     ]
    },
    {
     "name": "stderr",
     "output_type": "stream",
     "text": [
      "/home/kodolamacz/anaconda3/lib/python3.7/site-packages/xgboost/core.py:587: FutureWarning: Series.base is deprecated and will be removed in a future version\n",
      "  if getattr(data, 'base', None) is not None and \\\n"
     ]
    },
    {
     "name": "stdout",
     "output_type": "stream",
     "text": [
      "[CV]  learning_rate=0.1, max_depth=10, n_estimators=100, score=0.7508016699092874, total=   0.5s\n",
      "[CV] learning_rate=0.1, max_depth=10, n_estimators=200 ...............\n"
     ]
    },
    {
     "name": "stderr",
     "output_type": "stream",
     "text": [
      "/home/kodolamacz/anaconda3/lib/python3.7/site-packages/xgboost/core.py:587: FutureWarning: Series.base is deprecated and will be removed in a future version\n",
      "  if getattr(data, 'base', None) is not None and \\\n"
     ]
    },
    {
     "name": "stdout",
     "output_type": "stream",
     "text": [
      "[CV]  learning_rate=0.1, max_depth=10, n_estimators=200, score=0.7147477670646945, total=   0.9s\n",
      "[CV] learning_rate=0.1, max_depth=10, n_estimators=200 ...............\n"
     ]
    },
    {
     "name": "stderr",
     "output_type": "stream",
     "text": [
      "/home/kodolamacz/anaconda3/lib/python3.7/site-packages/xgboost/core.py:587: FutureWarning: Series.base is deprecated and will be removed in a future version\n",
      "  if getattr(data, 'base', None) is not None and \\\n"
     ]
    },
    {
     "name": "stdout",
     "output_type": "stream",
     "text": [
      "[CV]  learning_rate=0.1, max_depth=10, n_estimators=200, score=0.8391022147285809, total=   0.9s\n",
      "[CV] learning_rate=0.1, max_depth=10, n_estimators=200 ...............\n"
     ]
    },
    {
     "name": "stderr",
     "output_type": "stream",
     "text": [
      "/home/kodolamacz/anaconda3/lib/python3.7/site-packages/xgboost/core.py:587: FutureWarning: Series.base is deprecated and will be removed in a future version\n",
      "  if getattr(data, 'base', None) is not None and \\\n"
     ]
    },
    {
     "name": "stdout",
     "output_type": "stream",
     "text": [
      "[CV]  learning_rate=0.1, max_depth=10, n_estimators=200, score=0.7493344940619757, total=   0.9s\n"
     ]
    },
    {
     "name": "stderr",
     "output_type": "stream",
     "text": [
      "[Parallel(n_jobs=-1)]: Done 180 out of 180 | elapsed:  2.0min finished\n",
      "/home/kodolamacz/anaconda3/lib/python3.7/site-packages/xgboost/core.py:587: FutureWarning: Series.base is deprecated and will be removed in a future version\n",
      "  if getattr(data, 'base', None) is not None and \\\n"
     ]
    },
    {
     "name": "stdout",
     "output_type": "stream",
     "text": [
      "{'learning_rate': 0.1, 'max_depth': 5, 'n_estimators': 200}\n",
      "Best score: 0.781\n",
      "XGBRegressor(base_score=0.5, booster='gbtree', colsample_bylevel=1,\n",
      "       colsample_bytree=1, gamma=0, importance_type='gain',\n",
      "       learning_rate=0.1, max_delta_step=0, max_depth=5,\n",
      "       min_child_weight=1, missing=None, n_estimators=200, n_jobs=1,\n",
      "       nthread=None, objective='reg:linear', random_state=42, reg_alpha=0,\n",
      "       reg_lambda=1, scale_pos_weight=1, seed=None, silent=True,\n",
      "       subsample=1)\n"
     ]
    }
   ],
   "source": [
    "parameters_for_testing={\n",
    "    \"n_estimators\":range(100, 300, 100), \n",
    "    \"max_depth\": range(5,11,1), \n",
    "    \"learning_rate\": [x/100 for x in range(6,11)]\n",
    "}\n",
    "\n",
    "xgb_r = xgb.XGBRegressor(random_state=42)\n",
    "\n",
    "grid_2 = GridSearchCV(estimator=xgb_r,\n",
    "                      param_grid = parameters_for_testing,\n",
    "                      n_jobs=-1,\n",
    "                      refit=True,\n",
    "                      verbose=10)\n",
    "\n",
    "grid_2.fit(X_train, y_train)\n",
    "\n",
    "print(grid_2.best_params_)\n",
    "print(\"Best score: %0.3f\" % grid_2.best_score_)\n",
    "print(grid_2.best_estimator_)"
   ]
  },
  {
   "cell_type": "code",
   "execution_count": 19,
   "metadata": {},
   "outputs": [
    {
     "name": "stdout",
     "output_type": "stream",
     "text": [
      "R^2 train: 0.9830794372191867\n",
      "MSE train: 429713574.4760465\n",
      "MAE train: 14156.568272180079\n",
      "\n",
      "R^2 test: 0.810457527219422\n",
      "MSE test: 5274281770.274093\n",
      "MAE test: 39300.78023413462\n"
     ]
    }
   ],
   "source": [
    "print(f\"R^2 train: {r2_score(y_true=y_train, y_pred=grid_2.predict(X_train))}\")\n",
    "print(f\"MSE train: {mean_squared_error(y_true=y_train, y_pred=grid_2.predict(X_train))}\")\n",
    "print(f\"MAE train: {mean_absolute_error(y_true=y_train, y_pred=grid_2.predict(X_train))}\")\n",
    "print('')\n",
    "print(f\"R^2 test: {r2_score(y_true=y_test, y_pred=grid_2.predict(X_test))}\")\n",
    "print(f\"MSE test: {mean_squared_error(y_true=y_test, y_pred=grid_2.predict(X_test))}\")\n",
    "print(f\"MAE test: {mean_absolute_error(y_true=y_test, y_pred=grid_2.predict(X_test))}\")"
   ]
  },
  {
   "cell_type": "markdown",
   "metadata": {},
   "source": [
    "  "
   ]
  },
  {
   "cell_type": "markdown",
   "metadata": {},
   "source": [
    "## Regresja Lasso (3)"
   ]
  },
  {
   "cell_type": "code",
   "execution_count": 20,
   "metadata": {},
   "outputs": [
    {
     "name": "stderr",
     "output_type": "stream",
     "text": [
      "/home/kodolamacz/anaconda3/lib/python3.7/site-packages/sklearn/linear_model/coordinate_descent.py:492: ConvergenceWarning: Objective did not converge. You might want to increase the number of iterations. Fitting data with very small alpha may cause precision problems.\n",
      "  ConvergenceWarning)\n",
      "/home/kodolamacz/anaconda3/lib/python3.7/site-packages/sklearn/linear_model/coordinate_descent.py:492: ConvergenceWarning: Objective did not converge. You might want to increase the number of iterations. Fitting data with very small alpha may cause precision problems.\n",
      "  ConvergenceWarning)\n",
      "/home/kodolamacz/anaconda3/lib/python3.7/site-packages/sklearn/linear_model/coordinate_descent.py:492: ConvergenceWarning: Objective did not converge. You might want to increase the number of iterations. Fitting data with very small alpha may cause precision problems.\n",
      "  ConvergenceWarning)\n",
      "/home/kodolamacz/anaconda3/lib/python3.7/site-packages/sklearn/linear_model/coordinate_descent.py:492: ConvergenceWarning: Objective did not converge. You might want to increase the number of iterations. Fitting data with very small alpha may cause precision problems.\n",
      "  ConvergenceWarning)\n",
      "/home/kodolamacz/anaconda3/lib/python3.7/site-packages/sklearn/linear_model/coordinate_descent.py:492: ConvergenceWarning: Objective did not converge. You might want to increase the number of iterations. Fitting data with very small alpha may cause precision problems.\n",
      "  ConvergenceWarning)\n",
      "/home/kodolamacz/anaconda3/lib/python3.7/site-packages/sklearn/linear_model/coordinate_descent.py:492: ConvergenceWarning: Objective did not converge. You might want to increase the number of iterations. Fitting data with very small alpha may cause precision problems.\n",
      "  ConvergenceWarning)\n"
     ]
    },
    {
     "name": "stdout",
     "output_type": "stream",
     "text": [
      "{'lasso__alpha': 1, 'polynomialfeatures__degree': 2}\n",
      "Best score: 0.747\n",
      "Pipeline(memory=None,\n",
      "     steps=[('polynomialfeatures', PolynomialFeatures(degree=2, include_bias=True, interaction_only=False)), ('lasso', Lasso(alpha=1, copy_X=True, fit_intercept=True, max_iter=1000,\n",
      "   normalize=False, positive=False, precompute=False, random_state=None,\n",
      "   selection='cyclic', tol=0.1, warm_start=False))])\n"
     ]
    }
   ],
   "source": [
    "grid_3 = GridSearchCV(make_pipeline(PolynomialFeatures(degree=2), Lasso(alpha=1, tol=0.1)),\n",
    "                    param_grid={'polynomialfeatures__degree': [1, 2, 3],\n",
    "                    'lasso__alpha': [0.1, 0.5, 0.7, 1]},\n",
    "                    cv=5,\n",
    "                    refit=True)\n",
    "grid_3.fit(X_train, y_train)\n",
    "\n",
    "print(grid_3.best_params_)\n",
    "print(\"Best score: %0.3f\" % grid_3.best_score_)\n",
    "print(grid_3.best_estimator_)"
   ]
  },
  {
   "cell_type": "code",
   "execution_count": 21,
   "metadata": {},
   "outputs": [
    {
     "name": "stdout",
     "output_type": "stream",
     "text": [
      "R^2 train: 0.7999241644975482\n",
      "MSE train: 5081113645.790165\n",
      "MAE train: 47532.16296528904\n",
      "\n",
      "R^2 test: 0.7720030546547307\n",
      "MSE test: 6344330718.449674\n",
      "MAE test: 49364.56844315209\n"
     ]
    }
   ],
   "source": [
    "print(f\"R^2 train: {r2_score(y_true=y_train, y_pred=grid_3.predict(X_train))}\")\n",
    "print(f\"MSE train: {mean_squared_error(y_true=y_train, y_pred=grid_3.predict(X_train))}\")\n",
    "print(f\"MAE train: {mean_absolute_error(y_true=y_train, y_pred=grid_3.predict(X_train))}\")\n",
    "print('')\n",
    "print(f\"R^2 test: {r2_score(y_true=y_test, y_pred=grid_3.predict(X_test))}\")\n",
    "print(f\"MSE test: {mean_squared_error(y_true=y_test, y_pred=grid_3.predict(X_test))}\")\n",
    "print(f\"MAE test: {mean_absolute_error(y_true=y_test, y_pred=grid_3.predict(X_test))}\")"
   ]
  },
  {
   "cell_type": "markdown",
   "metadata": {},
   "source": [
    "  "
   ]
  },
  {
   "cell_type": "markdown",
   "metadata": {},
   "source": [
    "## Regresja Ridge (4)"
   ]
  },
  {
   "cell_type": "code",
   "execution_count": 22,
   "metadata": {},
   "outputs": [
    {
     "name": "stdout",
     "output_type": "stream",
     "text": [
      "{'polynomialfeatures__degree': 3, 'ridge__alpha': 450}\n",
      "Best score: 0.725\n",
      "Pipeline(memory=None,\n",
      "     steps=[('polynomialfeatures', PolynomialFeatures(degree=3, include_bias=True, interaction_only=False)), ('ridge', Ridge(alpha=450, copy_X=True, fit_intercept=True, max_iter=None,\n",
      "   normalize=False, random_state=None, solver='auto', tol=0.1))])\n"
     ]
    }
   ],
   "source": [
    "grid_4 = GridSearchCV(make_pipeline(PolynomialFeatures(degree=2), linear_model.Ridge(alpha=1, tol=0.1)),\n",
    "                    param_grid={'polynomialfeatures__degree': [1, 2, 3],\n",
    "                    'ridge__alpha': [350, 400, 450]},\n",
    "                    cv=5,\n",
    "                    refit=True)\n",
    "grid_4.fit(X_train, y_train)\n",
    "\n",
    "print(grid_4.best_params_)\n",
    "print(\"Best score: %0.3f\" % grid_4.best_score_)\n",
    "print(grid_4.best_estimator_)"
   ]
  },
  {
   "cell_type": "code",
   "execution_count": 23,
   "metadata": {},
   "outputs": [
    {
     "name": "stdout",
     "output_type": "stream",
     "text": [
      "R^2 train: 0.8002466083394917\n",
      "MSE train: 5072924881.758841\n",
      "MAE train: 47835.8906741582\n",
      "\n",
      "R^2 test: 0.7634596273589266\n",
      "MSE test: 6582063413.295783\n",
      "MAE test: 50771.73904941415\n"
     ]
    }
   ],
   "source": [
    "print(f\"R^2 train: {r2_score(y_true=y_train, y_pred=grid_4.predict(X_train))}\")\n",
    "print(f\"MSE train: {mean_squared_error(y_true=y_train, y_pred=grid_4.predict(X_train))}\")\n",
    "print(f\"MAE train: {mean_absolute_error(y_true=y_train, y_pred=grid_4.predict(X_train))}\")\n",
    "print('')\n",
    "print(f\"R^2 test: {r2_score(y_true=y_test, y_pred=grid_4.predict(X_test))}\")\n",
    "print(f\"MSE test: {mean_squared_error(y_true=y_test, y_pred=grid_4.predict(X_test))}\")\n",
    "print(f\"MAE test: {mean_absolute_error(y_true=y_test, y_pred=grid_4.predict(X_test))}\")"
   ]
  },
  {
   "cell_type": "markdown",
   "metadata": {},
   "source": [
    "  "
   ]
  },
  {
   "cell_type": "markdown",
   "metadata": {},
   "source": [
    "## Random forest (5)"
   ]
  },
  {
   "cell_type": "code",
   "execution_count": 24,
   "metadata": {},
   "outputs": [
    {
     "name": "stdout",
     "output_type": "stream",
     "text": [
      "{'max_depth': 400, 'max_features': 'log2', 'n_estimators': 300}\n",
      "Best score: 0.809\n",
      "RandomForestRegressor(bootstrap=True, criterion='mse', max_depth=400,\n",
      "           max_features='log2', max_leaf_nodes=None,\n",
      "           min_impurity_decrease=0.0, min_impurity_split=None,\n",
      "           min_samples_leaf=1, min_samples_split=2,\n",
      "           min_weight_fraction_leaf=0.0, n_estimators=300, n_jobs=-1,\n",
      "           oob_score=True, random_state=None, verbose=0, warm_start=False)\n"
     ]
    }
   ],
   "source": [
    "grid_5 = GridSearchCV(RandomForestRegressor(n_jobs = -1, max_features = 'sqrt', n_estimators = 50, oob_score = True),\n",
    "              param_grid={\n",
    "                   'n_estimators': [300, 500, 700],\n",
    "                    'max_features': ['auto', 'sqrt', 'log2'],  \n",
    "                    'max_depth': [200, 300, 400]\n",
    "                   },\n",
    "              cv=5,\n",
    "              refit=True)\n",
    "grid_5.fit(X_train, y_train)\n",
    "\n",
    "print(grid_5.best_params_)\n",
    "print(\"Best score: %0.3f\" % grid_5.best_score_)\n",
    "print(grid_5.best_estimator_)"
   ]
  },
  {
   "cell_type": "code",
   "execution_count": 25,
   "metadata": {},
   "outputs": [
    {
     "name": "stdout",
     "output_type": "stream",
     "text": [
      "R^2 train: 0.9750160275925579\n",
      "MSE train: 634491430.7452364\n",
      "MAE train: 14090.223209414007\n",
      "\n",
      "R^2 test: 0.806264551407958\n",
      "MSE test: 5390957128.36761\n",
      "MAE test: 37742.94248478697\n"
     ]
    }
   ],
   "source": [
    "print(f\"R^2 train: {r2_score(y_true=y_train, y_pred=grid_5.predict(X_train))}\")\n",
    "print(f\"MSE train: {mean_squared_error(y_true=y_train, y_pred=grid_5.predict(X_train))}\")\n",
    "print(f\"MAE train: {mean_absolute_error(y_true=y_train, y_pred=grid_5.predict(X_train))}\")\n",
    "print('')\n",
    "print(f\"R^2 test: {r2_score(y_true=y_test, y_pred=grid_5.predict(X_test))}\")\n",
    "print(f\"MSE test: {mean_squared_error(y_true=y_test, y_pred=grid_5.predict(X_test))}\")\n",
    "print(f\"MAE test: {mean_absolute_error(y_true=y_test, y_pred=grid_5.predict(X_test))}\")"
   ]
  },
  {
   "cell_type": "markdown",
   "metadata": {},
   "source": [
    "  "
   ]
  },
  {
   "cell_type": "markdown",
   "metadata": {},
   "source": [
    "Generuję podsumowanie wyników."
   ]
  },
  {
   "cell_type": "code",
   "execution_count": 29,
   "metadata": {},
   "outputs": [
    {
     "name": "stdout",
     "output_type": "stream",
     "text": [
      "LinearRegression\n",
      "R^2_train: 0.6757371593751103\n",
      "Expl variance score_train: 0.6757371593751105\n",
      "MSE_train: 8234959210.262142\n",
      "MAE_train: 64461.11706134985\n",
      "\n",
      "R^2_test: 0.6655569157399537\n",
      "Expl variance score_test: 0.6656648295341534\n",
      "MSE_test: 9306341932.918753\n",
      "MAE_test: 64634.30471657047\n",
      "\n",
      "\n",
      "XGBoostRegressor\n",
      "R^2_train: 0.9830794372191867\n",
      "Expl variance score_train: 0.9830794651338447\n",
      "MSE_train: 429713574.4760465\n",
      "MAE_train: 14156.568272180079\n",
      "\n",
      "R^2_test: 0.810457527219422\n",
      "Expl variance score_test: 0.8105937486329027\n",
      "MSE_test: 5274281770.274093\n",
      "MAE_test: 39300.78023413462\n",
      "\n",
      "\n",
      "Lasso\n",
      "R^2_train: 0.7999241644975482\n",
      "Expl variance score_train: 0.7999241644975482\n",
      "MSE_train: 5081113645.790165\n",
      "MAE_train: 47532.16296528904\n",
      "\n",
      "R^2_test: 0.7720030546547307\n",
      "Expl variance score_test: 0.7720846169863734\n",
      "MSE_test: 6344330718.449674\n",
      "MAE_test: 49364.56844315209\n",
      "\n",
      "\n",
      "Ridge\n",
      "R^2_train: 0.8002466083394917\n",
      "Expl variance score_train: 0.8002466083394917\n",
      "MSE_train: 5072924881.758841\n",
      "MAE_train: 47835.8906741582\n",
      "\n",
      "R^2_test: 0.7634596273589266\n",
      "Expl variance score_test: 0.7641221070506123\n",
      "MSE_test: 6582063413.295783\n",
      "MAE_test: 50771.73904941415\n",
      "\n",
      "\n",
      "RandomForestRegressor\n",
      "R^2_train: 0.9750160275925579\n",
      "Expl variance score_train: 0.9750216567222254\n",
      "MSE_train: 634491430.7452364\n",
      "MAE_train: 14090.223209414007\n",
      "\n",
      "R^2_test: 0.806264551407958\n",
      "Expl variance score_test: 0.8063670582295877\n",
      "MSE_test: 5390957128.36761\n",
      "MAE_test: 37742.94248478697\n",
      "\n",
      "\n"
     ]
    }
   ],
   "source": [
    "models = []\n",
    "models.append(('LinearRegression', grid_1.best_estimator_))\n",
    "models.append(('XGBoostRegressor', grid_2.best_estimator_))\n",
    "models.append(('Lasso', grid_3.best_estimator_))\n",
    "models.append(('Ridge', grid_4.best_estimator_))\n",
    "models.append(('RandomForestRegressor', grid_5.best_estimator_))\n",
    "\n",
    "\n",
    "r2_train = []\n",
    "explained_variance_score_train = []\n",
    "mean_squared_error_train= []\n",
    "mean_absolute_error_train = []\n",
    "\n",
    "r2_test = []\n",
    "explained_variance_score_test = []\n",
    "mean_squared_error_test = []\n",
    "mean_absolute_error_test = []\n",
    "for name, model in models:\n",
    "    print(name)\n",
    "    print(\"R^2_train: {}\".format(metrics.r2_score(y_train, model.predict(X_train)) ))\n",
    "    print(\"Expl variance score_train: {}\".format( metrics.explained_variance_score(y_train, model.predict(X_train)) ))\n",
    "    print(\"MSE_train: {}\".format( metrics.mean_squared_error(y_train, model.predict(X_train)) ))\n",
    "    print(\"MAE_train: {}\".format(metrics.mean_absolute_error(y_train, model.predict(X_train)) ))\n",
    "    print(\"\")\n",
    "    print(\"R^2_test: {}\".format(metrics.r2_score(y_test, model.predict(X_test)) ))\n",
    "    print(\"Expl variance score_test: {}\".format( metrics.explained_variance_score(y_test, model.predict(X_test)) ))\n",
    "    print(\"MSE_test: {}\".format( metrics.mean_squared_error(y_test, model.predict(X_test)) ))\n",
    "    print(\"MAE_test: {}\".format(metrics.mean_absolute_error(y_test, model.predict(X_test)) ))\n",
    "    print(\"\")\n",
    "    print(\"\")\n",
    "    \n",
    "    r2_train.append(metrics.r2_score(y_train, model.predict(X_train)))\n",
    "    explained_variance_score_train.append(metrics.explained_variance_score(y_train, model.predict(X_train)))\n",
    "    mean_squared_error_train.append(metrics.mean_squared_error(y_train, model.predict(X_train)))\n",
    "    mean_absolute_error_train.append(metrics.mean_absolute_error(y_train, model.predict(X_train)))\n",
    "    \n",
    "    r2_test.append(metrics.r2_score(y_test, model.predict(X_test)))\n",
    "    explained_variance_score_test.append(metrics.explained_variance_score(y_test, model.predict(X_test)))\n",
    "    mean_squared_error_test.append(metrics.mean_squared_error(y_test, model.predict(X_test)))\n",
    "    mean_absolute_error_test.append(metrics.mean_absolute_error(y_test, model.predict(X_test)))"
   ]
  },
  {
   "cell_type": "code",
   "execution_count": 30,
   "metadata": {},
   "outputs": [
    {
     "data": {
      "text/html": [
       "<div>\n",
       "<style scoped>\n",
       "    .dataframe tbody tr th:only-of-type {\n",
       "        vertical-align: middle;\n",
       "    }\n",
       "\n",
       "    .dataframe tbody tr th {\n",
       "        vertical-align: top;\n",
       "    }\n",
       "\n",
       "    .dataframe thead th {\n",
       "        text-align: right;\n",
       "    }\n",
       "</style>\n",
       "<table border=\"1\" class=\"dataframe\">\n",
       "  <thead>\n",
       "    <tr style=\"text-align: right;\">\n",
       "      <th></th>\n",
       "      <th>Method</th>\n",
       "      <th>r2 train</th>\n",
       "      <th>r2 test</th>\n",
       "      <th>expl_variance_score_train</th>\n",
       "      <th>expl_variance_score_test</th>\n",
       "      <th>MSE_train</th>\n",
       "      <th>MSE_test</th>\n",
       "      <th>MAE_train</th>\n",
       "      <th>MAE_test</th>\n",
       "    </tr>\n",
       "  </thead>\n",
       "  <tbody>\n",
       "    <tr>\n",
       "      <th>0</th>\n",
       "      <td>LinearRegression</td>\n",
       "      <td>0.675737</td>\n",
       "      <td>0.665557</td>\n",
       "      <td>0.675737</td>\n",
       "      <td>0.665665</td>\n",
       "      <td>8.234959e+09</td>\n",
       "      <td>9.306342e+09</td>\n",
       "      <td>64461.117061</td>\n",
       "      <td>64634.304717</td>\n",
       "    </tr>\n",
       "    <tr>\n",
       "      <th>1</th>\n",
       "      <td>XGBoost</td>\n",
       "      <td>0.983079</td>\n",
       "      <td>0.810458</td>\n",
       "      <td>0.983079</td>\n",
       "      <td>0.810594</td>\n",
       "      <td>4.297136e+08</td>\n",
       "      <td>5.274282e+09</td>\n",
       "      <td>14156.568272</td>\n",
       "      <td>39300.780234</td>\n",
       "    </tr>\n",
       "    <tr>\n",
       "      <th>2</th>\n",
       "      <td>Lasso</td>\n",
       "      <td>0.799924</td>\n",
       "      <td>0.772003</td>\n",
       "      <td>0.799924</td>\n",
       "      <td>0.772085</td>\n",
       "      <td>5.081114e+09</td>\n",
       "      <td>6.344331e+09</td>\n",
       "      <td>47532.162965</td>\n",
       "      <td>49364.568443</td>\n",
       "    </tr>\n",
       "    <tr>\n",
       "      <th>3</th>\n",
       "      <td>Ridge</td>\n",
       "      <td>0.800247</td>\n",
       "      <td>0.763460</td>\n",
       "      <td>0.800247</td>\n",
       "      <td>0.764122</td>\n",
       "      <td>5.072925e+09</td>\n",
       "      <td>6.582063e+09</td>\n",
       "      <td>47835.890674</td>\n",
       "      <td>50771.739049</td>\n",
       "    </tr>\n",
       "    <tr>\n",
       "      <th>4</th>\n",
       "      <td>RandomForest</td>\n",
       "      <td>0.975016</td>\n",
       "      <td>0.806265</td>\n",
       "      <td>0.975022</td>\n",
       "      <td>0.806367</td>\n",
       "      <td>6.344914e+08</td>\n",
       "      <td>5.390957e+09</td>\n",
       "      <td>14090.223209</td>\n",
       "      <td>37742.942485</td>\n",
       "    </tr>\n",
       "  </tbody>\n",
       "</table>\n",
       "</div>"
      ],
      "text/plain": [
       "             Method  r2 train   r2 test  expl_variance_score_train  \\\n",
       "0  LinearRegression  0.675737  0.665557                   0.675737   \n",
       "1           XGBoost  0.983079  0.810458                   0.983079   \n",
       "2             Lasso  0.799924  0.772003                   0.799924   \n",
       "3             Ridge  0.800247  0.763460                   0.800247   \n",
       "4      RandomForest  0.975016  0.806265                   0.975022   \n",
       "\n",
       "   expl_variance_score_test     MSE_train      MSE_test     MAE_train  \\\n",
       "0                  0.665665  8.234959e+09  9.306342e+09  64461.117061   \n",
       "1                  0.810594  4.297136e+08  5.274282e+09  14156.568272   \n",
       "2                  0.772085  5.081114e+09  6.344331e+09  47532.162965   \n",
       "3                  0.764122  5.072925e+09  6.582063e+09  47835.890674   \n",
       "4                  0.806367  6.344914e+08  5.390957e+09  14090.223209   \n",
       "\n",
       "       MAE_test  \n",
       "0  64634.304717  \n",
       "1  39300.780234  \n",
       "2  49364.568443  \n",
       "3  50771.739049  \n",
       "4  37742.942485  "
      ]
     },
     "execution_count": 30,
     "metadata": {},
     "output_type": "execute_result"
    }
   ],
   "source": [
    "dane = {'r2 train': r2_train,\n",
    "     'r2 test': r2_test, \n",
    "     'expl_variance_score_train': explained_variance_score_train,\n",
    "     'expl_variance_score_test': explained_variance_score_test, \n",
    "     'MSE_train' : mean_squared_error_train,\n",
    "     'MSE_test' : mean_squared_error_test,\n",
    "     'MAE_train' : mean_absolute_error_train,\n",
    "     'MAE_test' : mean_absolute_error_test,\n",
    "    }\n",
    "tabelka = pd.DataFrame(data=dane)\n",
    "tabelka.insert(loc=0, column='Method', value=['LinearRegression','XGBoost','Lasso','Ridge','RandomForest'])\n",
    "tabelka"
   ]
  },
  {
   "cell_type": "markdown",
   "metadata": {},
   "source": [
    "Powyższe porównanie pokazuje, że najlepsze wyniki dają 2 modele: XGBoost oraz RandomForest. Świadczą o tym:\n",
    "\n",
    "- najwyższe poziom r2, zarówno na zbiorze testowym, jak i treninowym (najlepsze dopasowanie modeli do danych)\n",
    "- najniższe poziomy błędów MSE i MAE.\n"
   ]
  },
  {
   "cell_type": "markdown",
   "metadata": {},
   "source": [
    "  "
   ]
  },
  {
   "cell_type": "markdown",
   "metadata": {},
   "source": [
    "## Wykresy"
   ]
  },
  {
   "cell_type": "code",
   "execution_count": 31,
   "metadata": {},
   "outputs": [
    {
     "data": {
      "text/html": [
       "<div>\n",
       "<style scoped>\n",
       "    .dataframe tbody tr th:only-of-type {\n",
       "        vertical-align: middle;\n",
       "    }\n",
       "\n",
       "    .dataframe tbody tr th {\n",
       "        vertical-align: top;\n",
       "    }\n",
       "\n",
       "    .dataframe thead th {\n",
       "        text-align: right;\n",
       "    }\n",
       "</style>\n",
       "<table border=\"1\" class=\"dataframe\">\n",
       "  <thead>\n",
       "    <tr style=\"text-align: right;\">\n",
       "      <th></th>\n",
       "      <th>liczba_pieter</th>\n",
       "      <th>liczba_pokoi</th>\n",
       "      <th>powierzchnia</th>\n",
       "      <th>rok_budowy</th>\n",
       "      <th>rynek_pierwotny</th>\n",
       "      <th>rodzaj_zabudowy_apartamentowiec</th>\n",
       "      <th>rodzaj_zabudowy_blok</th>\n",
       "      <th>rodzaj_zabudowy_dom</th>\n",
       "      <th>rodzaj_zabudowy_kamienica</th>\n",
       "      <th>stan_wykonczenia_do_remontu</th>\n",
       "      <th>stan_wykonczenia_do_wykonczenia</th>\n",
       "      <th>stan_wykonczenia_do_zamieszkania</th>\n",
       "    </tr>\n",
       "  </thead>\n",
       "  <tbody>\n",
       "    <tr>\n",
       "      <th>0</th>\n",
       "      <td>8.0</td>\n",
       "      <td>2.0</td>\n",
       "      <td>40.00</td>\n",
       "      <td>2019.0</td>\n",
       "      <td>1.0</td>\n",
       "      <td>1.0</td>\n",
       "      <td>0.0</td>\n",
       "      <td>0.0</td>\n",
       "      <td>0.0</td>\n",
       "      <td>0.0</td>\n",
       "      <td>0.0</td>\n",
       "      <td>1.0</td>\n",
       "    </tr>\n",
       "    <tr>\n",
       "      <th>1</th>\n",
       "      <td>10.0</td>\n",
       "      <td>3.0</td>\n",
       "      <td>48.37</td>\n",
       "      <td>2000.0</td>\n",
       "      <td>1.0</td>\n",
       "      <td>1.0</td>\n",
       "      <td>0.0</td>\n",
       "      <td>0.0</td>\n",
       "      <td>0.0</td>\n",
       "      <td>0.0</td>\n",
       "      <td>1.0</td>\n",
       "      <td>0.0</td>\n",
       "    </tr>\n",
       "    <tr>\n",
       "      <th>2</th>\n",
       "      <td>10.0</td>\n",
       "      <td>4.0</td>\n",
       "      <td>79.22</td>\n",
       "      <td>2000.0</td>\n",
       "      <td>1.0</td>\n",
       "      <td>0.0</td>\n",
       "      <td>1.0</td>\n",
       "      <td>0.0</td>\n",
       "      <td>0.0</td>\n",
       "      <td>0.0</td>\n",
       "      <td>0.0</td>\n",
       "      <td>0.0</td>\n",
       "    </tr>\n",
       "    <tr>\n",
       "      <th>3</th>\n",
       "      <td>4.0</td>\n",
       "      <td>3.0</td>\n",
       "      <td>50.00</td>\n",
       "      <td>2019.0</td>\n",
       "      <td>1.0</td>\n",
       "      <td>1.0</td>\n",
       "      <td>0.0</td>\n",
       "      <td>0.0</td>\n",
       "      <td>0.0</td>\n",
       "      <td>0.0</td>\n",
       "      <td>1.0</td>\n",
       "      <td>0.0</td>\n",
       "    </tr>\n",
       "    <tr>\n",
       "      <th>4</th>\n",
       "      <td>10.0</td>\n",
       "      <td>3.0</td>\n",
       "      <td>49.23</td>\n",
       "      <td>2000.0</td>\n",
       "      <td>1.0</td>\n",
       "      <td>1.0</td>\n",
       "      <td>0.0</td>\n",
       "      <td>0.0</td>\n",
       "      <td>0.0</td>\n",
       "      <td>0.0</td>\n",
       "      <td>1.0</td>\n",
       "      <td>0.0</td>\n",
       "    </tr>\n",
       "  </tbody>\n",
       "</table>\n",
       "</div>"
      ],
      "text/plain": [
       "   liczba_pieter  liczba_pokoi  powierzchnia  rok_budowy  rynek_pierwotny  \\\n",
       "0            8.0           2.0         40.00      2019.0              1.0   \n",
       "1           10.0           3.0         48.37      2000.0              1.0   \n",
       "2           10.0           4.0         79.22      2000.0              1.0   \n",
       "3            4.0           3.0         50.00      2019.0              1.0   \n",
       "4           10.0           3.0         49.23      2000.0              1.0   \n",
       "\n",
       "   rodzaj_zabudowy_apartamentowiec  rodzaj_zabudowy_blok  rodzaj_zabudowy_dom  \\\n",
       "0                              1.0                   0.0                  0.0   \n",
       "1                              1.0                   0.0                  0.0   \n",
       "2                              0.0                   1.0                  0.0   \n",
       "3                              1.0                   0.0                  0.0   \n",
       "4                              1.0                   0.0                  0.0   \n",
       "\n",
       "   rodzaj_zabudowy_kamienica  stan_wykonczenia_do_remontu  \\\n",
       "0                        0.0                          0.0   \n",
       "1                        0.0                          0.0   \n",
       "2                        0.0                          0.0   \n",
       "3                        0.0                          0.0   \n",
       "4                        0.0                          0.0   \n",
       "\n",
       "   stan_wykonczenia_do_wykonczenia  stan_wykonczenia_do_zamieszkania  \n",
       "0                              0.0                               1.0  \n",
       "1                              1.0                               0.0  \n",
       "2                              0.0                               0.0  \n",
       "3                              1.0                               0.0  \n",
       "4                              1.0                               0.0  "
      ]
     },
     "execution_count": 31,
     "metadata": {},
     "output_type": "execute_result"
    }
   ],
   "source": [
    "X_wykr = X_df\n",
    "X_wykr.head()"
   ]
  },
  {
   "cell_type": "code",
   "execution_count": 32,
   "metadata": {},
   "outputs": [
    {
     "data": {
      "text/plain": [
       "0    299000.0\n",
       "1    275709.0\n",
       "2    518891.0\n",
       "3    255000.0\n",
       "4    290457.0\n",
       "Name: cena, dtype: float64"
      ]
     },
     "execution_count": 32,
     "metadata": {},
     "output_type": "execute_result"
    }
   ],
   "source": [
    "y_wykr = y_df\n",
    "y_wykr.head()"
   ]
  },
  {
   "cell_type": "code",
   "execution_count": 33,
   "metadata": {},
   "outputs": [],
   "source": [
    "scaler = StandardScaler()\n",
    "\n",
    "scaler.fit(X_wykr)\n",
    "X_wykr = scaler.transform(X_wykr)"
   ]
  },
  {
   "cell_type": "code",
   "execution_count": 34,
   "metadata": {},
   "outputs": [],
   "source": [
    "pca = PCA(n_components = 10)\n",
    "\n",
    "pca.fit(X_wykr)\n",
    "X_wykr = pca.transform(X_wykr)"
   ]
  },
  {
   "cell_type": "code",
   "execution_count": 35,
   "metadata": {},
   "outputs": [],
   "source": [
    "y_Linear = grid_1.predict(X_wykr)\n",
    "y_XGBoost = grid_2.predict(X_wykr)\n",
    "y_Lasso = grid_3.predict(X_wykr)\n",
    "y_Ridge = grid_4.predict(X_wykr)\n",
    "y_Random_Forest = grid_5.predict(X_wykr)"
   ]
  },
  {
   "cell_type": "markdown",
   "metadata": {},
   "source": [
    "Zamieniam array'e na DataFrame"
   ]
  },
  {
   "cell_type": "code",
   "execution_count": 36,
   "metadata": {},
   "outputs": [],
   "source": [
    "X_wykr_df = pd.DataFrame(X_wykr)\n",
    "y_wykr_df = pd.DataFrame(y_wykr)"
   ]
  },
  {
   "cell_type": "code",
   "execution_count": 37,
   "metadata": {},
   "outputs": [],
   "source": [
    "y_Linear_df = pd.DataFrame(y_Linear)\n",
    "y_XGBoost_df = pd.DataFrame(y_XGBoost)\n",
    "y_Lasso_df = pd.DataFrame(y_Lasso)\n",
    "y_Ridge_df = pd.DataFrame(y_Ridge)\n",
    "y_Random_Forest_df = pd.DataFrame(y_Random_Forest)\n"
   ]
  },
  {
   "cell_type": "markdown",
   "metadata": {},
   "source": [
    "  "
   ]
  },
  {
   "cell_type": "markdown",
   "metadata": {},
   "source": [
    "Na wykresach pokazuję jak się mają wartości prognozowane (oś y) do wartosci faktycznych (os x)"
   ]
  },
  {
   "cell_type": "code",
   "execution_count": 38,
   "metadata": {},
   "outputs": [
    {
     "data": {
      "image/png": "[encoded data removed]",
      "text/plain": [
       "<Figure size 432x288 with 1 Axes>"
      ]
     },
     "metadata": {
      "needs_background": "light"
     },
     "output_type": "display_data"
    },
    {
     "data": {
      "image/png": "[encoded data removed]",
      "text/plain": [
       "<Figure size 432x288 with 1 Axes>"
      ]
     },
     "metadata": {
      "needs_background": "light"
     },
     "output_type": "display_data"
    },
    {
     "data": {
      "image/png": "[encoded data removed]",
      "text/plain": [
       "<Figure size 432x288 with 1 Axes>"
      ]
     },
     "metadata": {
      "needs_background": "light"
     },
     "output_type": "display_data"
    },
    {
     "data": {
      "image/png": "[encoded data removed]",
      "text/plain": [
       "<Figure size 432x288 with 1 Axes>"
      ]
     },
     "metadata": {
      "needs_background": "light"
     },
     "output_type": "display_data"
    },
    {
     "data": {
      "image/png": "[encoded data removed]",
      "text/plain": [
       "<Figure size 432x288 with 1 Axes>"
      ]
     },
     "metadata": {
      "needs_background": "light"
     },
     "output_type": "display_data"
    }
   ],
   "source": [
    "plt.scatter(y_wykr_df.cena,y_Linear_df[0], color='black')\n",
    "plt.title('Linear regression')\n",
    "plt.xlabel('Wartości prawdziwe')\n",
    "plt.ylabel('Wartości przewidywane')\n",
    "plt.show()\n",
    "\n",
    "plt.scatter(y_wykr_df.cena,y_XGBoost_df[0], color='red')\n",
    "plt.title('XG Boost')\n",
    "plt.xlabel('Wartości prawdziwe')\n",
    "plt.ylabel('Wartości przewidywane')\n",
    "plt.show()\n",
    "\n",
    "plt.scatter(y_wykr_df.cena,y_Lasso_df[0], color='purple')\n",
    "plt.title('Lasso')\n",
    "plt.xlabel('Wartości prawdziwe')\n",
    "plt.ylabel('Wartości przewidywane')\n",
    "plt.show()\n",
    "\n",
    "plt.scatter(y_wykr_df.cena,y_Ridge_df[0], color='green')\n",
    "plt.title('Ridge')\n",
    "plt.xlabel('Wartości prawdziwe')\n",
    "plt.ylabel('Wartości przewidywane')\n",
    "plt.show()\n",
    "\n",
    "plt.scatter(y_wykr_df.cena,y_Random_Forest_df[0], color='orange')\n",
    "plt.title('Random Forest')\n",
    "plt.xlabel('Wartości prawdziwe')\n",
    "plt.ylabel('Wartości przewidywane')\n",
    "plt.show()"
   ]
  },
  {
   "cell_type": "markdown",
   "metadata": {},
   "source": [
    "  "
   ]
  },
  {
   "cell_type": "markdown",
   "metadata": {},
   "source": [
    "  "
   ]
  }
 ],
 "metadata": {
  "kernelspec": {
   "display_name": "Python 3",
   "language": "python",
   "name": "python3"
  },
  "language_info": {
   "codemirror_mode": {
    "name": "ipython",
    "version": 3
   },
   "file_extension": ".py",
   "mimetype": "text/x-python",
   "name": "python",
   "nbconvert_exporter": "python",
   "pygments_lexer": "ipython3",
   "version": "3.7.2"
  }
 },
 "nbformat": 4,
 "nbformat_minor": 2
}
